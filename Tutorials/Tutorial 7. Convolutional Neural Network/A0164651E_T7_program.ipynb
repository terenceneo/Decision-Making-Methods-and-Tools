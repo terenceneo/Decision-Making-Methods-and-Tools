{
 "cells": [
  {
   "cell_type": "markdown",
   "metadata": {},
   "source": [
    "# BT2101 Deep Learning: Convolutional Neural Network"
   ]
  },
  {
   "cell_type": "markdown",
   "metadata": {},
   "source": [
    "#### This notebook should run in Python 3.5+ version."
   ]
  },
  {
   "cell_type": "markdown",
   "metadata": {},
   "source": [
    "## 1 Goal\n",
    "\n",
    "In this notebook, we will explore deep learning and Convolutional Neural Network. <br/>\n",
    "\n",
    "First of all, students should understand machine learning basic knowledge. And then, students can expect to practice machine learning and deep learning models in Tensorflow. More information can be found at https://www.tensorflow.org/install/ and https://keras.io/.\n",
    "\n",
    "Make sure you have already installed tensorflow in your computing, and then you are able to install Keras. **Note that Tensorflow only supports Python 3.5+ version.** If you installed Python 2.7 version in your computer, you could:\n",
    "* Create a new virtual environment with Python 3.5+ in Anaconda \n",
    "* Activate this virtual environment\n",
    "* Install Tensorflow CPU version in this virtual environment\n",
    "* Open Python in this virtual environment and type `import tensorflow as tf`\n",
    "* Installation of Tensorflow succeeds if there is not error message returns"
   ]
  },
  {
   "cell_type": "code",
   "execution_count": 1,
   "metadata": {},
   "outputs": [],
   "source": [
    "# -*- coding:utf-8 -*-\n",
    "# Set seed\n",
    "from numpy.random import seed\n",
    "seed(1)\n",
    "# from tensorflow import set_random_seed\n",
    "# set_random_seed(1)"
   ]
  },
  {
   "cell_type": "code",
   "execution_count": 2,
   "metadata": {},
   "outputs": [
    {
     "name": "stderr",
     "output_type": "stream",
     "text": [
      "C:\\ProgramData\\Anaconda3\\lib\\site-packages\\h5py\\__init__.py:36: FutureWarning: Conversion of the second argument of issubdtype from `float` to `np.floating` is deprecated. In future, it will be treated as `np.float64 == np.dtype(float).type`.\n",
      "  from ._conv import register_converters as _register_converters\n"
     ]
    },
    {
     "name": "stdout",
     "output_type": "stream",
     "text": [
      "b'Hello, TensorFlow!'\n"
     ]
    }
   ],
   "source": [
    "# Check whether tensorflow is installed\n",
    "import tensorflow as tf\n",
    "hello = tf.constant('Hello, TensorFlow!')\n",
    "sess = tf.Session()\n",
    "print(sess.run(hello))"
   ]
  },
  {
   "cell_type": "markdown",
   "metadata": {},
   "source": [
    "## 2 Experiment Using Keras"
   ]
  },
  {
   "cell_type": "markdown",
   "metadata": {},
   "source": [
    "### Case I: Multi-class Classification Using Fully-Connected Neural Network\n",
    "\n",
    "**Remember in Tutorial 5, we contructed a fully-connected neural network model to do handwritten digit classification. Let us review it again.**"
   ]
  },
  {
   "cell_type": "markdown",
   "metadata": {},
   "source": [
    "We are going to practice with handwritten digital from MINIST dataset, which is the representative data to explore machine learning techniques. We are going to practice to learn the basics of Keras by walking through a simple example: MINIST consists of $28\\times28$ grayscale images of handwritten digits like these:\n",
    "\n",
    "<img src=\"https://cdn-images-1.medium.com/max/1600/1*_4Ua9Zp84He8OxlZ4cy0DQ@2x.png\" width=\"500\">\n",
    "\n",
    "The dataset also includes labels for each image, telling us which digit it is. For example, the labels for the above images are 5, 0, 4, and 1."
   ]
  },
  {
   "cell_type": "code",
   "execution_count": 3,
   "metadata": {},
   "outputs": [
    {
     "name": "stderr",
     "output_type": "stream",
     "text": [
      "Using TensorFlow backend.\n"
     ]
    }
   ],
   "source": [
    "# Load packages\n",
    "import numpy as np\n",
    "import scipy\n",
    "import keras\n",
    "from keras.models import Sequential\n",
    "from keras.layers import Dense, Dropout\n",
    "from __future__ import division\n",
    "import matplotlib.pyplot as plt\n",
    "%matplotlib inline"
   ]
  },
  {
   "cell_type": "code",
   "execution_count": 4,
   "metadata": {},
   "outputs": [],
   "source": [
    "# Load the MNIST data\n",
    "from keras.datasets import mnist\n",
    "\n",
    "# the data, split between train and test sets\n",
    "(x_train, y_train), (x_test, y_test) = mnist.load_data()"
   ]
  },
  {
   "cell_type": "markdown",
   "metadata": {},
   "source": [
    "Ths X data is a 3D Array (images, width, height) of grayscale values. To prepare the data for training, we should convert the 3D Array to matrices by reshaping width and height into a single dimension (i.e., $28\\times28$ images are flatterned into length 784 vectors). Then, we rescale the grayscale values from integers ranging between 0 to 255 into floating point values ranging between 0 and 1."
   ]
  },
  {
   "cell_type": "code",
   "execution_count": 5,
   "metadata": {},
   "outputs": [],
   "source": [
    "x_train_new = x_train.reshape(x_train.shape[0], 784) / 255\n",
    "x_test_new = x_test.reshape(x_test.shape[0], 784) / 255"
   ]
  },
  {
   "cell_type": "markdown",
   "metadata": {},
   "source": [
    "The y data is an integer vector with values ranging from 0 to 9. To prepare this data for training we should encode the vectors into binary class matrices using the Keras function `to_categorical()`."
   ]
  },
  {
   "cell_type": "code",
   "execution_count": 6,
   "metadata": {},
   "outputs": [],
   "source": [
    "y_train_new = keras.utils.to_categorical(y_train, 10)\n",
    "y_test_new = keras.utils.to_categorical(y_test, 10)"
   ]
  },
  {
   "cell_type": "code",
   "execution_count": 7,
   "metadata": {},
   "outputs": [
    {
     "name": "stdout",
     "output_type": "stream",
     "text": [
      "_________________________________________________________________\n",
      "Layer (type)                 Output Shape              Param #   \n",
      "=================================================================\n",
      "dense_1 (Dense)              (None, 256)               200960    \n",
      "_________________________________________________________________\n",
      "dropout_1 (Dropout)          (None, 256)               0         \n",
      "_________________________________________________________________\n",
      "dense_2 (Dense)              (None, 128)               32896     \n",
      "_________________________________________________________________\n",
      "dropout_2 (Dropout)          (None, 128)               0         \n",
      "_________________________________________________________________\n",
      "dense_3 (Dense)              (None, 10)                1290      \n",
      "=================================================================\n",
      "Total params: 235,146\n",
      "Trainable params: 235,146\n",
      "Non-trainable params: 0\n",
      "_________________________________________________________________\n"
     ]
    }
   ],
   "source": [
    "# Then we can try the sequential model\n",
    "model = Sequential()\n",
    "\n",
    "# First hidden layer\n",
    "model.add(Dense(units=256, activation='relu', input_dim=784))\n",
    "model.add(Dropout(0.4))\n",
    "\n",
    "# Second hidden layer\n",
    "model.add(Dense(units=128, activation='relu'))\n",
    "model.add(Dropout(0.3))\n",
    "\n",
    "# Output layer\n",
    "model.add(Dense(units=10, activation='sigmoid'))\n",
    "\n",
    "# The argument for the first layer specifies the shape of the input data (a length 784 numeric vector representing a grayscale image). \n",
    "# The final layer outputs a length 10 numeric vector (probabilities for each digit) using a softmax activation function.\n",
    "model.summary()"
   ]
  },
  {
   "cell_type": "markdown",
   "metadata": {},
   "source": [
    "#### Some activation functions:\n",
    "\n",
    "<img src=\"https://cdn-images-1.medium.com/max/1600/1*p_hyqAtyI8pbt2kEl6siOQ.png\" width=\"900\">"
   ]
  },
  {
   "cell_type": "code",
   "execution_count": 8,
   "metadata": {},
   "outputs": [],
   "source": [
    "# Then we can compile the model with appropriate loss function, optimizer and metrics \n",
    "model.compile(loss='categorical_crossentropy', optimizer=keras.optimizers.rmsprop(), metrics=['accuracy'])"
   ]
  },
  {
   "cell_type": "code",
   "execution_count": 9,
   "metadata": {},
   "outputs": [
    {
     "name": "stdout",
     "output_type": "stream",
     "text": [
      "Train on 48000 samples, validate on 12000 samples\n",
      "Epoch 1/15\n",
      "48000/48000 [==============================] - 5s 106us/step - loss: 0.5209 - acc: 0.8445 - val_loss: 0.1935 - val_acc: 0.9432\n",
      "Epoch 2/15\n",
      "48000/48000 [==============================] - 5s 95us/step - loss: 0.2198 - acc: 0.9354 - val_loss: 0.1258 - val_acc: 0.9657\n",
      "Epoch 3/15\n",
      "48000/48000 [==============================] - 5s 102us/step - loss: 0.1688 - acc: 0.9503 - val_loss: 0.1104 - val_acc: 0.9691\n",
      "Epoch 4/15\n",
      "48000/48000 [==============================] - 5s 96us/step - loss: 0.1404 - acc: 0.9601 - val_loss: 0.1052 - val_acc: 0.9716\n",
      "Epoch 5/15\n",
      "48000/48000 [==============================] - 5s 95us/step - loss: 0.1234 - acc: 0.9626 - val_loss: 0.0963 - val_acc: 0.9742\n",
      "Epoch 6/15\n",
      "48000/48000 [==============================] - 5s 112us/step - loss: 0.1110 - acc: 0.9679 - val_loss: 0.0994 - val_acc: 0.9722\n",
      "Epoch 7/15\n",
      "48000/48000 [==============================] - 6s 118us/step - loss: 0.0998 - acc: 0.9707 - val_loss: 0.0973 - val_acc: 0.9760\n",
      "Epoch 8/15\n",
      "48000/48000 [==============================] - 8s 167us/step - loss: 0.0967 - acc: 0.9710 - val_loss: 0.0977 - val_acc: 0.9764\n",
      "Epoch 9/15\n",
      "48000/48000 [==============================] - 7s 137us/step - loss: 0.0909 - acc: 0.9736 - val_loss: 0.0933 - val_acc: 0.9776\n",
      "Epoch 10/15\n",
      "48000/48000 [==============================] - 7s 141us/step - loss: 0.0806 - acc: 0.9762 - val_loss: 0.0996 - val_acc: 0.9767\n",
      "Epoch 11/15\n",
      "48000/48000 [==============================] - 5s 113us/step - loss: 0.0810 - acc: 0.9764 - val_loss: 0.1009 - val_acc: 0.9773\n",
      "Epoch 12/15\n",
      "48000/48000 [==============================] - 6s 117us/step - loss: 0.0772 - acc: 0.9781 - val_loss: 0.0936 - val_acc: 0.9778\n",
      "Epoch 13/15\n",
      "48000/48000 [==============================] - 5s 95us/step - loss: 0.0738 - acc: 0.9792 - val_loss: 0.0934 - val_acc: 0.9792\n",
      "Epoch 14/15\n",
      "48000/48000 [==============================] - 5s 108us/step - loss: 0.0704 - acc: 0.9803 - val_loss: 0.0961 - val_acc: 0.9787\n",
      "Epoch 15/15\n",
      "48000/48000 [==============================] - 5s 101us/step - loss: 0.0689 - acc: 0.9805 - val_loss: 0.0952 - val_acc: 0.9786\n"
     ]
    }
   ],
   "source": [
    "# Train the model with 30 epochs and batches of 128 images\n",
    "history = model.fit(x_train_new, y_train_new, epochs=15, batch_size=128, validation_split=0.2)"
   ]
  },
  {
   "cell_type": "code",
   "execution_count": 10,
   "metadata": {},
   "outputs": [
    {
     "name": "stdout",
     "output_type": "stream",
     "text": [
      "10000/10000 [==============================] - 0s 29us/step\n"
     ]
    },
    {
     "data": {
      "text/plain": [
       "[0.0844453233676264, 0.9806]"
      ]
     },
     "execution_count": 10,
     "metadata": {},
     "output_type": "execute_result"
    }
   ],
   "source": [
    "# Evaluate model performance on test data\n",
    "loss_and_metrics = model.evaluate(x_test_new, y_test_new, batch_size=128)\n",
    "loss_and_metrics #[loss, accuracy]"
   ]
  },
  {
   "cell_type": "code",
   "execution_count": 11,
   "metadata": {},
   "outputs": [
    {
     "data": {
      "text/plain": [
       "array([7, 2, 1, ..., 4, 5, 6], dtype=int64)"
      ]
     },
     "execution_count": 11,
     "metadata": {},
     "output_type": "execute_result"
    }
   ],
   "source": [
    "# Make predictions on test data\n",
    "probabilities = model.predict(x_test_new, batch_size=128)\n",
    "classes = probabilities.argmax(axis=-1)\n",
    "classes"
   ]
  },
  {
   "cell_type": "code",
   "execution_count": 12,
   "metadata": {},
   "outputs": [
    {
     "data": {
      "image/png": "[encoded data removed]",
      "text/plain": [
       "<Figure size 432x288 with 1 Axes>"
      ]
     },
     "metadata": {},
     "output_type": "display_data"
    }
   ],
   "source": [
    "# What does the first image in x_test_new look like\n",
    "# Whether we predict it correctly?\n",
    "import matplotlib.pyplot as plt\n",
    "from __future__ import division\n",
    "%matplotlib inline\n",
    "\n",
    "plt.imshow(np.array(x_test_new[0,:]).reshape((28, 28)), cmap=\"gray\")\n",
    "plt.title(\"This digit is %d\" % classes[0])\n",
    "plt.show()"
   ]
  },
  {
   "cell_type": "code",
   "execution_count": 13,
   "metadata": {},
   "outputs": [
    {
     "data": {
      "image/png": "[encoded data removed]",
      "text/plain": [
       "<Figure size 720x360 with 1 Axes>"
      ]
     },
     "metadata": {},
     "output_type": "display_data"
    },
    {
     "data": {
      "image/png": "[encoded data removed]",
      "text/plain": [
       "<Figure size 720x360 with 1 Axes>"
      ]
     },
     "metadata": {},
     "output_type": "display_data"
    }
   ],
   "source": [
    "# Plot loss and accuracy \n",
    "fig = plt.figure(figsize=(10,5))\n",
    "\n",
    "#plt.subplot(1, 2, 1)\n",
    "plt.plot(history.epoch, history.history['val_loss'], 'g-', label='Validation data')\n",
    "plt.plot(history.epoch, history.history['loss'], 'r--', label='Training data')\n",
    "plt.grid(True)\n",
    "plt.xlabel('Number of epochs')\n",
    "plt.ylabel('Loss on training/validation data')\n",
    "plt.legend(bbox_to_anchor=(1.05, 1), loc=2, borderaxespad=0.)\n",
    "plt.show()\n",
    "\n",
    "#plt.subplot(1, 2, 2)\n",
    "fig = plt.figure(figsize=(10,5))\n",
    "plt.plot(history.epoch, history.history['val_acc'], 'g-', label='Validation data')\n",
    "plt.plot(history.epoch, history.history['acc'], 'r--', label='Training data')\n",
    "plt.grid(True)\n",
    "plt.xlabel('Number of epochs')\n",
    "plt.ylabel('Accuracy on training/validation data')\n",
    "plt.legend(bbox_to_anchor=(1.05, 1), loc=2, borderaxespad=0.)\n",
    "plt.show()"
   ]
  },
  {
   "cell_type": "markdown",
   "metadata": {},
   "source": []
  },
  {
   "cell_type": "markdown",
   "metadata": {},
   "source": [
    "### Case II: Multi-class Classification Using Convolutional Neural Network (CNN)"
   ]
  },
  {
   "cell_type": "markdown",
   "metadata": {},
   "source": [
    "We are going to practice with `Convolutional Neural Network`. You can compare it with fully-connected neural network model.\n",
    "\n",
    "References: https://keras.io/layers/convolutional/"
   ]
  },
  {
   "cell_type": "code",
   "execution_count": 14,
   "metadata": {},
   "outputs": [],
   "source": [
    "# import packages \n",
    "import keras\n",
    "from keras.models import Sequential, Input, Model\n",
    "from keras.layers import Dense, Dropout, Flatten\n",
    "from keras.layers.convolutional import Conv2D, MaxPooling2D"
   ]
  },
  {
   "cell_type": "code",
   "execution_count": 15,
   "metadata": {},
   "outputs": [],
   "source": [
    "# Load the MNIST data\n",
    "from keras.datasets import mnist\n",
    "\n",
    "# the data, split between train and test sets\n",
    "(x_train, y_train), (x_test, y_test) = mnist.load_data()"
   ]
  },
  {
   "cell_type": "code",
   "execution_count": 16,
   "metadata": {},
   "outputs": [],
   "source": [
    "# Convert to 28*28*1 and normalize to [0, 1]\n",
    "x_train_new = x_train.reshape(x_train.shape[0], 28, 28, 1) / 255\n",
    "x_test_new = x_test.reshape(x_test.shape[0], 28, 28, 1) / 255"
   ]
  },
  {
   "cell_type": "code",
   "execution_count": 17,
   "metadata": {},
   "outputs": [],
   "source": [
    "# Transform the categorical output label into 10 binary output labels\n",
    "y_train_new = keras.utils.to_categorical(y_train, 10)\n",
    "y_test_new = keras.utils.to_categorical(y_test, 10)"
   ]
  },
  {
   "cell_type": "code",
   "execution_count": 18,
   "metadata": {},
   "outputs": [
    {
     "name": "stdout",
     "output_type": "stream",
     "text": [
      "_________________________________________________________________\n",
      "Layer (type)                 Output Shape              Param #   \n",
      "=================================================================\n",
      "conv2d_1 (Conv2D)            (None, 24, 24, 32)        832       \n",
      "_________________________________________________________________\n",
      "max_pooling2d_1 (MaxPooling2 (None, 12, 12, 32)        0         \n",
      "_________________________________________________________________\n",
      "dropout_3 (Dropout)          (None, 12, 12, 32)        0         \n",
      "_________________________________________________________________\n",
      "flatten_1 (Flatten)          (None, 4608)              0         \n",
      "_________________________________________________________________\n",
      "dense_4 (Dense)              (None, 128)               589952    \n",
      "_________________________________________________________________\n",
      "dense_5 (Dense)              (None, 10)                1290      \n",
      "=================================================================\n",
      "Total params: 592,074\n",
      "Trainable params: 592,074\n",
      "Non-trainable params: 0\n",
      "_________________________________________________________________\n"
     ]
    }
   ],
   "source": [
    "# Build CNN model in a sequential way\n",
    "model = Sequential()\n",
    "\n",
    "# Input layer and convolution layer (with 32 different filters/kernels, each filter/kernel is 5*5 dimension)\n",
    "model.add(Conv2D(32, (5, 5), input_shape=(28, 28, 1), activation='relu'))\n",
    "\n",
    "# Pooling layer: Maxpooling\n",
    "model.add(MaxPooling2D(pool_size=(2, 2)))\n",
    "\n",
    "# Set dropout rate to 0.2\n",
    "model.add(Dropout(0.2))\n",
    "\n",
    "# Flattern all pixels/neurons and generate a fully-connected layer\n",
    "model.add(Flatten())\n",
    "model.add(Dense(units=128, activation='relu'))\n",
    "\n",
    "# Output layer\n",
    "model.add(Dense(units=10, activation='sigmoid'))\n",
    "\n",
    "# The argument for the first layer specifies the shape of the input data (a length 784 numeric vector representing a grayscale image). \n",
    "# The final layer outputs a length 10 numeric vector (probabilities for each digit) using a softmax activation function.\n",
    "model.summary()"
   ]
  },
  {
   "cell_type": "code",
   "execution_count": 19,
   "metadata": {},
   "outputs": [],
   "source": [
    "# Then we can compile the model with appropriate loss function, optimizer and metrics \n",
    "model.compile(loss='categorical_crossentropy', optimizer=keras.optimizers.rmsprop(), metrics=['accuracy'])"
   ]
  },
  {
   "cell_type": "code",
   "execution_count": 20,
   "metadata": {},
   "outputs": [
    {
     "name": "stdout",
     "output_type": "stream",
     "text": [
      "Train on 48000 samples, validate on 12000 samples\n",
      "Epoch 1/15\n",
      "48000/48000 [==============================] - 77s 2ms/step - loss: 0.2753 - acc: 0.9163 - val_loss: 0.0945 - val_acc: 0.9735\n",
      "Epoch 2/15\n",
      "48000/48000 [==============================] - 82s 2ms/step - loss: 0.0734 - acc: 0.9776 - val_loss: 0.0587 - val_acc: 0.9825\n",
      "Epoch 3/15\n",
      "48000/48000 [==============================] - 90s 2ms/step - loss: 0.0491 - acc: 0.9847 - val_loss: 0.0525 - val_acc: 0.9851\n",
      "Epoch 4/15\n",
      "48000/48000 [==============================] - 85s 2ms/step - loss: 0.0364 - acc: 0.9890 - val_loss: 0.0427 - val_acc: 0.9870\n",
      "Epoch 5/15\n",
      "48000/48000 [==============================] - 74s 2ms/step - loss: 0.0280 - acc: 0.9913 - val_loss: 0.0470 - val_acc: 0.9866\n",
      "Epoch 6/15\n",
      "48000/48000 [==============================] - 71s 1ms/step - loss: 0.0239 - acc: 0.9924 - val_loss: 0.0355 - val_acc: 0.9898\n",
      "Epoch 7/15\n",
      "48000/48000 [==============================] - 79s 2ms/step - loss: 0.0184 - acc: 0.9941 - val_loss: 0.0396 - val_acc: 0.9900\n",
      "Epoch 8/15\n",
      "48000/48000 [==============================] - 90s 2ms/step - loss: 0.0151 - acc: 0.9954 - val_loss: 0.0435 - val_acc: 0.9882\n",
      "Epoch 9/15\n",
      "48000/48000 [==============================] - 82s 2ms/step - loss: 0.0126 - acc: 0.9957 - val_loss: 0.0377 - val_acc: 0.9899\n",
      "Epoch 10/15\n",
      "48000/48000 [==============================] - 84s 2ms/step - loss: 0.0113 - acc: 0.9964 - val_loss: 0.0449 - val_acc: 0.9883\n",
      "Epoch 11/15\n",
      "48000/48000 [==============================] - 78s 2ms/step - loss: 0.0089 - acc: 0.9971 - val_loss: 0.0440 - val_acc: 0.9894\n",
      "Epoch 12/15\n",
      "48000/48000 [==============================] - 81s 2ms/step - loss: 0.0086 - acc: 0.9973 - val_loss: 0.0398 - val_acc: 0.9897\n",
      "Epoch 13/15\n",
      "48000/48000 [==============================] - 89s 2ms/step - loss: 0.0068 - acc: 0.9974 - val_loss: 0.0440 - val_acc: 0.9895\n",
      "Epoch 14/15\n",
      "48000/48000 [==============================] - 90s 2ms/step - loss: 0.0065 - acc: 0.9977 - val_loss: 0.0468 - val_acc: 0.9893\n",
      "Epoch 15/15\n",
      "48000/48000 [==============================] - 83s 2ms/step - loss: 0.0054 - acc: 0.9980 - val_loss: 0.0463 - val_acc: 0.9904\n"
     ]
    }
   ],
   "source": [
    "# Train the model with 15 epochs and batches of 128 images\n",
    "history = model.fit(x_train_new, y_train_new, epochs=15, batch_size=128, validation_split=0.2)"
   ]
  },
  {
   "cell_type": "code",
   "execution_count": 21,
   "metadata": {},
   "outputs": [
    {
     "name": "stdout",
     "output_type": "stream",
     "text": [
      "10000/10000 [==============================] - 6s 570us/step\n"
     ]
    },
    {
     "data": {
      "text/plain": [
       "[0.04115247222657344, 0.9906]"
      ]
     },
     "execution_count": 21,
     "metadata": {},
     "output_type": "execute_result"
    }
   ],
   "source": [
    "# Evaluate model performance on test data\n",
    "loss_and_metrics = model.evaluate(x_test_new, y_test_new, batch_size=128)\n",
    "loss_and_metrics #[loss, accuracy]"
   ]
  },
  {
   "cell_type": "markdown",
   "metadata": {},
   "source": [
    "**You can see that test accuracy of CNN model is close to 99%**"
   ]
  },
  {
   "cell_type": "code",
   "execution_count": 22,
   "metadata": {},
   "outputs": [
    {
     "data": {
      "text/plain": [
       "array([7, 2, 1, ..., 4, 5, 6], dtype=int64)"
      ]
     },
     "execution_count": 22,
     "metadata": {},
     "output_type": "execute_result"
    }
   ],
   "source": [
    "# Make predictions on test data\n",
    "probabilities = model.predict(x_test_new, batch_size=128)\n",
    "classes = probabilities.argmax(axis=-1)\n",
    "classes"
   ]
  },
  {
   "cell_type": "code",
   "execution_count": 23,
   "metadata": {},
   "outputs": [
    {
     "data": {
      "image/png": "[encoded data removed]",
      "text/plain": [
       "<Figure size 432x288 with 1 Axes>"
      ]
     },
     "metadata": {},
     "output_type": "display_data"
    }
   ],
   "source": [
    "# What does the first image in x_test_new look like\n",
    "# Whether we predict it correctly?\n",
    "import matplotlib.pyplot as plt\n",
    "from __future__ import division\n",
    "%matplotlib inline\n",
    "\n",
    "plt.imshow(np.array(x_test_new[0,:]).reshape((28, 28)), cmap=\"gray\")\n",
    "plt.title(\"This digit is %d\" % classes[0])\n",
    "plt.show()"
   ]
  },
  {
   "cell_type": "code",
   "execution_count": 24,
   "metadata": {},
   "outputs": [
    {
     "data": {
      "image/png": "[encoded data removed]",
      "text/plain": [
       "<Figure size 720x360 with 1 Axes>"
      ]
     },
     "metadata": {},
     "output_type": "display_data"
    },
    {
     "data": {
      "image/png": "[encoded data removed]",
      "text/plain": [
       "<Figure size 720x360 with 1 Axes>"
      ]
     },
     "metadata": {},
     "output_type": "display_data"
    }
   ],
   "source": [
    "# Plot loss and accuracy \n",
    "fig = plt.figure(figsize=(10,5))\n",
    "\n",
    "#plt.subplot(1, 2, 1)\n",
    "plt.plot(history.epoch, history.history['val_loss'], 'g-', label='Validation data')\n",
    "plt.plot(history.epoch, history.history['loss'], 'r--', label='Training data')\n",
    "plt.grid(True)\n",
    "plt.xlabel('Number of epochs')\n",
    "plt.ylabel('Loss on training/validation data')\n",
    "plt.legend(bbox_to_anchor=(1.05, 1), loc=2, borderaxespad=0.)\n",
    "plt.show()\n",
    "\n",
    "#plt.subplot(1, 2, 2)\n",
    "fig = plt.figure(figsize=(10,5))\n",
    "plt.plot(history.epoch, history.history['val_acc'], 'g-', label='Validation data')\n",
    "plt.plot(history.epoch, history.history['acc'], 'r--', label='Training data')\n",
    "plt.grid(True)\n",
    "plt.xlabel('Number of epochs')\n",
    "plt.ylabel('Accuracy on training/validation data')\n",
    "plt.legend(bbox_to_anchor=(1.05, 1), loc=2, borderaxespad=0.)\n",
    "plt.show()"
   ]
  },
  {
   "cell_type": "code",
   "execution_count": 25,
   "metadata": {},
   "outputs": [
    {
     "name": "stdout",
     "output_type": "stream",
     "text": [
      "             precision    recall  f1-score   support\n",
      "\n",
      "   Number 0       0.99      1.00      0.99       980\n",
      "   Number 1       0.99      1.00      1.00      1135\n",
      "   Number 2       0.98      0.99      0.99      1032\n",
      "   Number 3       1.00      0.99      0.99      1010\n",
      "   Number 4       0.99      0.99      0.99       982\n",
      "   Number 5       0.99      0.99      0.99       892\n",
      "   Number 6       0.99      0.99      0.99       958\n",
      "   Number 7       0.99      0.99      0.99      1028\n",
      "   Number 8       0.99      0.99      0.99       974\n",
      "   Number 9       0.99      0.99      0.99      1009\n",
      "\n",
      "avg / total       0.99      0.99      0.99     10000\n",
      "\n"
     ]
    }
   ],
   "source": [
    "# Classification Report\n",
    "# References: http://scikit-learn.org/stable/modules/generated/sklearn.metrics.classification_report.html\n",
    "from sklearn.metrics import classification_report\n",
    "target_names = [\"Number {}\".format(i) for i in range(10)]\n",
    "print(classification_report(y_test, classes, target_names=target_names))"
   ]
  },
  {
   "cell_type": "markdown",
   "metadata": {},
   "source": [
    "Now it is your turn. Read Tensorflow and Keras documents and examples on deep learning model. Familiarize yourself with applications of convolutional neural network models. \n",
    "\n",
    "References: https://keras.io/layers/convolutional/"
   ]
  },
  {
   "cell_type": "markdown",
   "metadata": {},
   "source": [
    "## 3 Assignments (5 points)\n",
    "\n",
    "### Purpose: Familiarize yourself with Building Convolutional Neural Network Models in Tensorflow and Keras"
   ]
  },
  {
   "cell_type": "markdown",
   "metadata": {},
   "source": [
    "#### Dataset on Hand Writen Digits: The same dataset used in Tutorial 3 Ensemble Learning. Remember in tutorials 3 and 5, the accuracy of single decision tree model is about 86%, bagging model 95%, random forest model 96%, fully-connected neural network model 95%. Let us check the performance of convolutional neural network model\n",
    "\n",
    "**Dataset:**\n",
    "\n",
    "The Kaggle competition dataset can be obtained from https://www.kaggle.com/c/digit-recognizer/data.\n",
    "\n",
    "**Overview:**\n",
    "\n",
    "MNIST (\"Modified National Institute of Standards and Technology\") is the de facto “hello world” dataset of computer vision. Since its release in 1999, this classic dataset of handwritten images has served as the basis for benchmarking classification algorithms. As new machine learning techniques emerge, MNIST remains a reliable resource for researchers and learners alike.\n",
    "\n",
    "In this competition, your goal is to correctly identify digits from a dataset of tens of thousands of handwritten images. We’ve curated a set of tutorial-style kernels which cover everything from regression to neural networks. We encourage you to experiment with different algorithms to learn first-hand what works well and how techniques compare.\n",
    "\n",
    "**Acknowlegements:**\n",
    "\n",
    "More details about the dataset, including algorithms that have been tried on it and their levels of success, can be found at http://yann.lecun.com/exdb/mnist/index.html. The dataset is made available under a Creative Commons Attribution-Share Alike 3.0 license.\n",
    "\n",
    "**Attributes:**\n",
    "\n",
    "The data files train.csv and test.csv contain gray-scale images of hand-drawn digits, from zero through nine.\n",
    "\n",
    "Each image is 28 pixels in height and 28 pixels in width, for a total of 784 pixels in total. Each pixel has a single pixel-value associated with it, indicating the lightness or darkness of that pixel, with higher numbers meaning darker. This pixel-value is an integer between 0 and 255, inclusive.\n",
    "\n",
    "The training data set, (train.csv), has 785 columns. The first column, called \"label\", is the digit that was drawn by the user. The rest of the columns contain the pixel-values of the associated image.\n",
    "\n",
    "Each pixel column in the training set has a name like pixelx, where x is an integer between 0 and 783, inclusive. To locate this pixel on the image, suppose that we have decomposed x as x = i * 28 + j, where i and j are integers between 0 and 27, inclusive. Then pixelx is located on row i and column j of a 28 x 28 matrix, (indexing by zero).\n",
    "\n",
    "The test data set, (test.csv), is the same as the training set, except that it does not contain the \"label\" column.\n",
    "\n",
    "The evaluation metric for this contest is the categorization accuracy, or the proportion of test images that are correctly classified. For example, a categorization accuracy of 0.97 indicates that you have correctly classified all but 3% of the images."
   ]
  },
  {
   "cell_type": "code",
   "execution_count": 26,
   "metadata": {},
   "outputs": [],
   "source": [
    "# Load packages\n",
    "import numpy as np\n",
    "import pandas as pd\n",
    "import scipy\n",
    "import keras\n",
    "from keras.models import Sequential, Input, Model\n",
    "from keras.layers import Dense, Dropout, Flatten\n",
    "from keras.layers.convolutional import Conv2D, MaxPooling2D\n",
    "from sklearn.model_selection import train_test_split\n",
    "from __future__ import division\n",
    "import matplotlib.pyplot as plt\n",
    "%matplotlib inline"
   ]
  },
  {
   "cell_type": "code",
   "execution_count": 27,
   "metadata": {},
   "outputs": [],
   "source": [
    "# Load dataset: You need to download dataset first\n",
    "%pwd\n",
    "train = pd.read_csv('./train.csv')"
   ]
  },
  {
   "cell_type": "code",
   "execution_count": 32,
   "metadata": {},
   "outputs": [
    {
     "data": {
      "text/plain": [
       "(42000, 785)"
      ]
     },
     "execution_count": 32,
     "metadata": {},
     "output_type": "execute_result"
    }
   ],
   "source": [
    "# 42,000 pictures; Each picture is composed of 28*28 dimensional pixels\n",
    "train.shape"
   ]
  },
  {
   "cell_type": "code",
   "execution_count": 29,
   "metadata": {},
   "outputs": [
    {
     "data": {
      "image/png": "[encoded data removed]",
      "text/plain": [
       "<Figure size 432x288 with 1 Axes>"
      ]
     },
     "metadata": {},
     "output_type": "display_data"
    }
   ],
   "source": [
    "# What does an image look like\n",
    "plt.imshow(np.array(train.iloc[1,1:]).reshape((28, 28)), cmap=\"gray\")\n",
    "plt.title(\"This digit is %d\" % train.iloc[1,0])\n",
    "plt.show()"
   ]
  },
  {
   "cell_type": "code",
   "execution_count": 30,
   "metadata": {},
   "outputs": [],
   "source": [
    "# Transform features and outputs\n",
    "# Convert X to 28*28*1 and normalize to [0, 1]\n",
    "train_feature = train.iloc[:,1:].values.reshape(train.shape[0], 28, 28, 1) / 255\n",
    "\n",
    "# Binarize output labels\n",
    "train_target = keras.utils.to_categorical(train.iloc[:,0], 10)"
   ]
  },
  {
   "cell_type": "markdown",
   "metadata": {},
   "source": [
    "### Question 1. Create a convolutional neural network model, and show model performance (3 points)\n",
    "\n",
    "#### Hint:\n",
    "* Create a neural network in a sequential way\n",
    "* Set the first convolutional layer Conv2D with 36 filters/kernels, while each filter/kernel is 3\\*3 dimention: `Conv2D(36, (3, 3))`, `activation='relu'`, `input_shape=(28, 28, 1)`\n",
    "* Set a maxpooling layer with 3\\*3 dimension patches: `MaxPooling2D(pool_size=(3, 3))`\n",
    "* Set another convolutional layer Conv2D with 24 filters/kernels, while each filter/kernel is 2\\*2 dimention: `Conv2D(24, (2, 2))`, `activation='relu'`\n",
    "* Set another maxpooling layer Conv2D with 2\\*2 dimension patches: `MaxPooling2D(pool_size=(2, 2))`\n",
    "* Set dropout rate to 0.1\n",
    "* Flattern all pixels/neurons using `Flatten()`\n",
    "* Generate a fully-connected layer with parameters: `units=128, activation='relu'`\n",
    "* Generate another fully-connected layer with parameters: `units=50, activation='relu'`\n",
    "* Set output layer with parameters: `units=10`, `activation='sigmoid'`\n",
    "* Train the model with parameters: `epochs=20`, `batch_size=128`, `validation_split=0.3`\n",
    "* Compile the model with parameters: `loss='categorical_crossentropy'`, `optimizer='sgd'`, `metrics=['accuracy']`\n",
    "* Sample code:\n",
    "\n",
    "```python\n",
    "\n",
    "# Build CNN model in a sequential way\n",
    "model = Sequential()\n",
    "\n",
    "# Input layer and convolution layer (with 32 different filters/kernels, each filter/kernel is 5*5 dimension)\n",
    "model.add(Conv2D(32, (7, 7), input_shape=(28, 28, 1), activation='relu'))\n",
    "\n",
    "# Pooling layer: Maxpooling\n",
    "model.add(MaxPooling2D(pool_size=(2, 2)))\n",
    "\n",
    "# Set dropout rate to 0.2\n",
    "model.add(Dropout(0.2))\n",
    "\n",
    "# Flattern all pixels/neurons \n",
    "model.add(Flatten())\n",
    "\n",
    "# Generate a fully-connected layer with 128 pixels/neurons\n",
    "model.add(Dense(units=128, activation='relu'))\n",
    "\n",
    "# Output layer\n",
    "model.add(Dense(units=10, activation='sigmoid'))\n",
    "\n",
    "# The argument for the first layer specifies the shape of the input data (a length 784 numeric vector representing a grayscale image). \n",
    "# The final layer outputs a length 10 numeric vector (probabilities for each digit) using a softmax activation function.\n",
    "model.summary()\n",
    "\n",
    "# Then we can compile the model with appropriate loss function, optimizer and metrics \n",
    "model.compile(loss='categorical_crossentropy', optimizer=keras.optimizers.rmsprop(), metrics=['accuracy'])\n",
    "\n",
    "# Train the model with 30 epochs and batches of 128 images\n",
    "history = model.fit(x_train_new, y_train_new, epochs=30, batch_size=128, validation_split=0.3)\n",
    "\n",
    "# Evaluate model performance on test data\n",
    "loss_and_metrics = model.evaluate(x_test_new, y_test_new, batch_size=128)\n",
    "loss_and_metrics #[loss, accuracy]\n",
    "\n",
    "```\n",
    "\n",
    "References: https://keras.io/activations/ and https://keras.io/layers/convolutional/"
   ]
  },
  {
   "cell_type": "code",
   "execution_count": 43,
   "metadata": {},
   "outputs": [
    {
     "name": "stdout",
     "output_type": "stream",
     "text": [
      "_________________________________________________________________\n",
      "Layer (type)                 Output Shape              Param #   \n",
      "=================================================================\n",
      "conv2d_4 (Conv2D)            (None, 26, 26, 36)        360       \n",
      "_________________________________________________________________\n",
      "max_pooling2d_4 (MaxPooling2 (None, 8, 8, 36)          0         \n",
      "_________________________________________________________________\n",
      "conv2d_5 (Conv2D)            (None, 7, 7, 24)          3480      \n",
      "_________________________________________________________________\n",
      "max_pooling2d_5 (MaxPooling2 (None, 3, 3, 24)          0         \n",
      "_________________________________________________________________\n",
      "dropout_5 (Dropout)          (None, 3, 3, 24)          0         \n",
      "_________________________________________________________________\n",
      "flatten_3 (Flatten)          (None, 216)               0         \n",
      "_________________________________________________________________\n",
      "dense_9 (Dense)              (None, 128)               27776     \n",
      "_________________________________________________________________\n",
      "dense_10 (Dense)             (None, 50)                6450      \n",
      "_________________________________________________________________\n",
      "dense_11 (Dense)             (None, 10)                510       \n",
      "=================================================================\n",
      "Total params: 38,576\n",
      "Trainable params: 38,576\n",
      "Non-trainable params: 0\n",
      "_________________________________________________________________\n"
     ]
    }
   ],
   "source": [
    "# Then we can try the sequential model\n",
    "# Create a neural network in a sequential way\n",
    "model = Sequential()\n",
    "\n",
    "# Set the first convolutional layer Conv2D with 36 filters/kernels, while each filter/kernel is 3*3 dimention: \n",
    "# Conv2D(36, (3, 3)), activation='relu', input_shape=(28, 28, 1)\n",
    "# Write your code here\n",
    "model.add(Conv2D(36, (3, 3), input_shape=(28, 28, 1), activation='relu'))\n",
    "\n",
    "# Set a maxpooling layer with 3*3 dimension patches: MaxPooling2D(pool_size=(3, 3))\n",
    "# Write your code here\n",
    "model.add(MaxPooling2D(pool_size=(3, 3)))\n",
    "\n",
    "# Set another convolutional layer Conv2D with 24 filters/kernels, while each filter/kernel is 2*2 dimention: \n",
    "# Conv2D(24, (2, 2)), activation='relu'\n",
    "# Write your code here\n",
    "model.add(Conv2D(24, (2, 2), activation='relu'))\n",
    "\n",
    "# Set another maxpooling layer Conv2D with 2*2 dimension patches: MaxPooling2D(pool_size=(2, 2))\n",
    "# Write your code here\n",
    "model.add(MaxPooling2D(pool_size=(2, 2)))\n",
    "\n",
    "# Set dropout rate to 0.1\n",
    "# Write your code here\n",
    "model.add(Dropout(0.1))\n",
    "\n",
    "# Flattern all pixels/neurons using Flatten()\n",
    "# Write your code here\n",
    "model.add(Flatten())\n",
    "\n",
    "# Generate a fully-connected layer with parameters: units=128, activation='relu'\n",
    "# Write your code here\n",
    "model.add(Dense(units=128, activation='relu'))\n",
    "\n",
    "# Generate another fully-connected layer with parameters: units=50, activation='relu'\n",
    "# Write your code here\n",
    "model.add(Dense(units=50, activation='relu'))\n",
    "\n",
    "# Set output layer with parameters: units=10, activation='sigmoid'\n",
    "# Write your code here\n",
    "model.add(Dense(units=10, activation='sigmoid'))\n",
    "\n",
    "# The argument for the first layer specifies the shape of the input data (a length 784 numeric vector representing a grayscale image). \n",
    "# The final layer outputs a length 10 numeric vector (probabilities for each digit) using a sigmoid activation function.\n",
    "model.summary()"
   ]
  },
  {
   "cell_type": "code",
   "execution_count": 44,
   "metadata": {},
   "outputs": [],
   "source": [
    "# Then we can compile the model with appropriate loss function, optimizer and metrics \n",
    "# Write your code here\n",
    "model.compile(loss='categorical_crossentropy', optimizer=keras.optimizers.rmsprop(), metrics=['accuracy'])"
   ]
  },
  {
   "cell_type": "code",
   "execution_count": 45,
   "metadata": {},
   "outputs": [
    {
     "name": "stdout",
     "output_type": "stream",
     "text": [
      "Train on 29399 samples, validate on 12601 samples\n",
      "Epoch 1/30\n",
      "29399/29399 [==============================] - 29s 971us/step - loss: 0.7362 - acc: 0.7699 - val_loss: 0.2086 - val_acc: 0.9415\n",
      "Epoch 2/30\n",
      "29399/29399 [==============================] - 27s 926us/step - loss: 0.2303 - acc: 0.9297 - val_loss: 0.1247 - val_acc: 0.9617\n",
      "Epoch 3/30\n",
      "29399/29399 [==============================] - 27s 906us/step - loss: 0.1540 - acc: 0.9518 - val_loss: 0.1538 - val_acc: 0.9499\n",
      "Epoch 4/30\n",
      "29399/29399 [==============================] - 33s 1ms/step - loss: 0.1177 - acc: 0.9647 - val_loss: 0.0860 - val_acc: 0.9729\n",
      "Epoch 5/30\n",
      "29399/29399 [==============================] - 34s 1ms/step - loss: 0.0996 - acc: 0.9681 - val_loss: 0.0782 - val_acc: 0.9767\n",
      "Epoch 6/30\n",
      "29399/29399 [==============================] - 34s 1ms/step - loss: 0.0861 - acc: 0.9728 - val_loss: 0.1021 - val_acc: 0.9673\n",
      "Epoch 7/30\n",
      "29399/29399 [==============================] - 55s 2ms/step - loss: 0.0773 - acc: 0.9751 - val_loss: 0.0700 - val_acc: 0.9779\n",
      "Epoch 8/30\n",
      "29399/29399 [==============================] - 53s 2ms/step - loss: 0.0678 - acc: 0.9778 - val_loss: 0.0631 - val_acc: 0.9798\n",
      "Epoch 9/30\n",
      "29399/29399 [==============================] - 47s 2ms/step - loss: 0.0618 - acc: 0.9805 - val_loss: 0.0562 - val_acc: 0.9829\n",
      "Epoch 10/30\n",
      "29399/29399 [==============================] - 42s 1ms/step - loss: 0.0582 - acc: 0.9810 - val_loss: 0.0526 - val_acc: 0.9840\n",
      "Epoch 11/30\n",
      "29399/29399 [==============================] - 41s 1ms/step - loss: 0.0552 - acc: 0.9818 - val_loss: 0.0496 - val_acc: 0.9834\n",
      "Epoch 12/30\n",
      "29399/29399 [==============================] - 41s 1ms/step - loss: 0.0501 - acc: 0.9838 - val_loss: 0.0477 - val_acc: 0.9845\n",
      "Epoch 13/30\n",
      "29399/29399 [==============================] - 43s 1ms/step - loss: 0.0450 - acc: 0.9855 - val_loss: 0.0525 - val_acc: 0.9835\n",
      "Epoch 14/30\n",
      "29399/29399 [==============================] - 41s 1ms/step - loss: 0.0434 - acc: 0.9858 - val_loss: 0.0615 - val_acc: 0.9824\n",
      "Epoch 15/30\n",
      "29399/29399 [==============================] - 42s 1ms/step - loss: 0.0416 - acc: 0.9866 - val_loss: 0.0533 - val_acc: 0.9836\n",
      "Epoch 16/30\n",
      "29399/29399 [==============================] - 42s 1ms/step - loss: 0.0368 - acc: 0.9877 - val_loss: 0.0665 - val_acc: 0.9806\n",
      "Epoch 17/30\n",
      "29399/29399 [==============================] - 42s 1ms/step - loss: 0.0357 - acc: 0.9884 - val_loss: 0.0558 - val_acc: 0.9837\n",
      "Epoch 18/30\n",
      "29399/29399 [==============================] - 43s 1ms/step - loss: 0.0323 - acc: 0.9889 - val_loss: 0.0511 - val_acc: 0.9851\n",
      "Epoch 19/30\n",
      "29399/29399 [==============================] - 42s 1ms/step - loss: 0.0320 - acc: 0.9895 - val_loss: 0.0584 - val_acc: 0.9830\n",
      "Epoch 20/30\n",
      "29399/29399 [==============================] - 42s 1ms/step - loss: 0.0300 - acc: 0.9901 - val_loss: 0.0629 - val_acc: 0.9831\n",
      "Epoch 21/30\n",
      "29399/29399 [==============================] - 42s 1ms/step - loss: 0.0293 - acc: 0.9901 - val_loss: 0.0529 - val_acc: 0.9849\n",
      "Epoch 22/30\n",
      "29399/29399 [==============================] - 43s 1ms/step - loss: 0.0258 - acc: 0.9916 - val_loss: 0.0510 - val_acc: 0.9854\n",
      "Epoch 23/30\n",
      "29399/29399 [==============================] - 42s 1ms/step - loss: 0.0265 - acc: 0.9911 - val_loss: 0.0490 - val_acc: 0.9857\n",
      "Epoch 24/30\n",
      "29399/29399 [==============================] - 42s 1ms/step - loss: 0.0256 - acc: 0.9912 - val_loss: 0.0481 - val_acc: 0.9861\n",
      "Epoch 25/30\n",
      "29399/29399 [==============================] - 46s 2ms/step - loss: 0.0237 - acc: 0.9924 - val_loss: 0.0466 - val_acc: 0.9864\n",
      "Epoch 26/30\n",
      "29399/29399 [==============================] - 46s 2ms/step - loss: 0.0215 - acc: 0.9923 - val_loss: 0.0651 - val_acc: 0.9823\n",
      "Epoch 27/30\n",
      "29399/29399 [==============================] - 42s 1ms/step - loss: 0.0229 - acc: 0.9924 - val_loss: 0.0473 - val_acc: 0.9860\n",
      "Epoch 28/30\n",
      "29399/29399 [==============================] - 44s 2ms/step - loss: 0.0211 - acc: 0.9928 - val_loss: 0.0489 - val_acc: 0.9860\n",
      "Epoch 29/30\n",
      "29399/29399 [==============================] - 42s 1ms/step - loss: 0.0193 - acc: 0.9938 - val_loss: 0.0558 - val_acc: 0.9852\n",
      "Epoch 30/30\n",
      "29399/29399 [==============================] - 45s 2ms/step - loss: 0.0200 - acc: 0.9934 - val_loss: 0.0487 - val_acc: 0.9867\n"
     ]
    }
   ],
   "source": [
    "# Train the model with 30 epochs and batches of 128 images\n",
    "# Write your code here\n",
    "history = model.fit(train_feature, train_target, epochs=30, batch_size=128, validation_split=0.3)"
   ]
  },
  {
   "cell_type": "code",
   "execution_count": 46,
   "metadata": {},
   "outputs": [
    {
     "name": "stdout",
     "output_type": "stream",
     "text": [
      "42000/42000 [==============================] - 24s 577us/step\n"
     ]
    },
    {
     "data": {
      "text/plain": [
       "[0.019271991300905244, 0.994547619047619]"
      ]
     },
     "execution_count": 46,
     "metadata": {},
     "output_type": "execute_result"
    }
   ],
   "source": [
    "# Evaluate model performance on train data\n",
    "loss_and_metrics = model.evaluate(train_feature, train_target, batch_size=128)\n",
    "loss_and_metrics #[loss, accuracy]"
   ]
  },
  {
   "cell_type": "code",
   "execution_count": 47,
   "metadata": {},
   "outputs": [
    {
     "data": {
      "image/png": "[encoded data removed]",
      "text/plain": [
       "<Figure size 720x360 with 1 Axes>"
      ]
     },
     "metadata": {},
     "output_type": "display_data"
    },
    {
     "data": {
      "image/png": "[encoded data removed]",
      "text/plain": [
       "<Figure size 720x360 with 1 Axes>"
      ]
     },
     "metadata": {},
     "output_type": "display_data"
    }
   ],
   "source": [
    "# Plot loss and accuracy \n",
    "fig = plt.figure(figsize=(10,5))\n",
    "\n",
    "#plt.subplot(1, 2, 1)\n",
    "plt.plot(history.epoch, history.history['val_loss'], 'g-', label='Validation data')\n",
    "plt.plot(history.epoch, history.history['loss'], 'r--', label='Training data')\n",
    "plt.grid(True)\n",
    "plt.xlabel('Number of epochs')\n",
    "plt.ylabel('Loss on training/validation data')\n",
    "plt.legend(bbox_to_anchor=(1.05, 1), loc=2, borderaxespad=0.)\n",
    "plt.show()\n",
    "\n",
    "#plt.subplot(1, 2, 2)\n",
    "fig = plt.figure(figsize=(10,5))\n",
    "plt.plot(history.epoch, history.history['val_acc'], 'g-', label='Validation data')\n",
    "plt.plot(history.epoch, history.history['acc'], 'r--', label='Training data')\n",
    "plt.grid(True)\n",
    "plt.xlabel('Number of epochs')\n",
    "plt.ylabel('Accuracy on training/validation data')\n",
    "plt.legend(bbox_to_anchor=(1.05, 1), loc=2, borderaxespad=0.)\n",
    "plt.show()"
   ]
  },
  {
   "cell_type": "markdown",
   "metadata": {},
   "source": [
    "### Question 2. Predictions on the test data (1 point)\n",
    "\n",
    "#### Hint:\n",
    "\n",
    "* Predict class labels using `predict` function\n",
    "* Sample code:\n",
    "\n",
    "```python\n",
    "\n",
    "# Make predictions on test data\n",
    "probabilities = model.predict(x_test_new, batch_size=128)\n",
    "classes = probabilities.argmax(axis=-1)\n",
    "classes\n",
    "\n",
    "```\n",
    "\n",
    "References: https://keras.io/models/model/"
   ]
  },
  {
   "cell_type": "code",
   "execution_count": 48,
   "metadata": {},
   "outputs": [],
   "source": [
    "# Import test dataset\n",
    "test = pd.read_csv('./test.csv')\n",
    "\n",
    "# Transform features\n",
    "test_feature = test.values.reshape(test.shape[0], 28, 28, 1) / 255"
   ]
  },
  {
   "cell_type": "code",
   "execution_count": 49,
   "metadata": {},
   "outputs": [
    {
     "data": {
      "text/plain": [
       "array([2, 0, 9, ..., 3, 9, 2], dtype=int64)"
      ]
     },
     "execution_count": 49,
     "metadata": {},
     "output_type": "execute_result"
    }
   ],
   "source": [
    "# Make predictions on test data\n",
    "# Write your code here\n",
    "probabilities = model.predict(test_feature, batch_size=128)\n",
    "classes = probabilities.argmax(axis=-1)\n",
    "classes"
   ]
  },
  {
   "cell_type": "code",
   "execution_count": 50,
   "metadata": {},
   "outputs": [
    {
     "data": {
      "image/png": "[encoded data removed]",
      "text/plain": [
       "<Figure size 432x288 with 1 Axes>"
      ]
     },
     "metadata": {},
     "output_type": "display_data"
    }
   ],
   "source": [
    "# What does the first image in test_feature look like\n",
    "# Whether do we predict it correctly?\n",
    "import matplotlib.pyplot as plt\n",
    "from __future__ import division\n",
    "%matplotlib inline\n",
    "\n",
    "plt.imshow(np.array(test_feature[0]).reshape((28, 28)), cmap=\"gray\")\n",
    "plt.title(\"This digit is %d\" % classes[0])\n",
    "plt.show()"
   ]
  },
  {
   "cell_type": "markdown",
   "metadata": {},
   "source": [
    "### Question 3. Why do we need to use pooling (or subsampling) in CNN, such as maxpooling? (1 point)"
   ]
  },
  {
   "cell_type": "markdown",
   "metadata": {},
   "source": [
    "To reduce the amount of parameters for computation, and extract the most important information of each part of the image from the background colour (eg. edges or textures).\n",
    "1. By removing the less important and unnecessary parts of the image, the model will be able to account for distortions and still recognise an image despite slight variations (eg. an object viewed from another angle)\n",
    "2. Removing the less important features of the images prevents overfitting to this less important parts of the images in the training dataset."
   ]
  },
  {
   "cell_type": "markdown",
   "metadata": {},
   "source": [
    "## 4 References\n",
    "[1] Chris Albon. (2018). Machine Learning with Python Cookbook. O'Reilly."
   ]
  }
 ],
 "metadata": {
  "kernelspec": {
   "display_name": "Python 3",
   "language": "python",
   "name": "python3"
  },
  "language_info": {
   "codemirror_mode": {
    "name": "ipython",
    "version": 3
   },
   "file_extension": ".py",
   "mimetype": "text/x-python",
   "name": "python",
   "nbconvert_exporter": "python",
   "pygments_lexer": "ipython3",
   "version": "3.6.5"
  }
 },
 "nbformat": 4,
 "nbformat_minor": 2
}
