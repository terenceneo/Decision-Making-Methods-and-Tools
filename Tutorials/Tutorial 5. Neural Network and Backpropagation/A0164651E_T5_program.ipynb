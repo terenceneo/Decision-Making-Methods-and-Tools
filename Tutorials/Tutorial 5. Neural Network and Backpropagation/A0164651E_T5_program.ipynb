{
 "cells": [
  {
   "cell_type": "markdown",
   "metadata": {},
   "source": [
    "# BT2101 Deep Learning With Tensorflow and Keras"
   ]
  },
  {
   "cell_type": "markdown",
   "metadata": {},
   "source": [
    "#### This notebook should run in Python 3.5+ version."
   ]
  },
  {
   "cell_type": "markdown",
   "metadata": {},
   "source": [
    "## 1 Goal\n",
    "\n",
    "In this notebook, we will explore deep learning and Tensorflow. <br/>\n",
    "\n",
    "First of all, students should understand machine learning basic knowledge. And then, students can expect to practice machine learning and deep learning models in Tensorflow. More information can be found at https://www.tensorflow.org/install/ and https://keras.io/.\n",
    "\n",
    "Make sure you have already installed tensorflow in your computing, and then you are able to install Keras. **Note that Tensorflow only supports Python 3.5+ version.** If you installed Python 2.7 version in your computer, you could:\n",
    "* Create a new virtual environment with Python 3.5+ in Anaconda \n",
    "* Activate this virtual environment\n",
    "* Install Tensorflow CPU version in this virtual environment\n",
    "* Open Python in this virtual environment and type `import tensorflow as tf`\n",
    "* Installation of Tensorflow succeeds if there is not error message returns"
   ]
  },
  {
   "cell_type": "code",
   "execution_count": 6,
   "metadata": {},
   "outputs": [
    {
     "name": "stdout",
     "output_type": "stream",
     "text": [
      "b'Hello, TensorFlow!'\n"
     ]
    }
   ],
   "source": [
    "# -*- coding:utf-8 -*-\n",
    "# Check whether tensorflow is installed\n",
    "import tensorflow as tf\n",
    "hello = tf.constant('Hello, TensorFlow!')\n",
    "sess = tf.Session()\n",
    "print(sess.run(hello))"
   ]
  },
  {
   "cell_type": "markdown",
   "metadata": {},
   "source": [
    "### 1.1 Machine Learning Types"
   ]
  },
  {
   "cell_type": "markdown",
   "metadata": {},
   "source": [
    "Basic machine learning methods include:\n",
    "\n",
    "1. Supervised Learning\n",
    "\n",
    "The algorithm consists of a target/outcome variable (or dependent variable) which is to be predicted from a given set of predictors (independent variables). Examples include regression, decision tree and KNN.\n",
    "\n",
    "2. Unsupervised Learning\n",
    "\n",
    "The algorithm does not have any target or outcome variable to predict/estimate. It is used for clustering population in different groups, which is widely used for segmenting customers in different groups for specific intervention. Examples include K-means clustering.\n",
    "\n",
    "3. Reinforcement Learning\n",
    "\n",
    "The algorithm trains a machine to make specific decisions. A machine is exposed to an environment where it trains itself continually using trial and error. Examples include Markov Chain Process."
   ]
  },
  {
   "cell_type": "markdown",
   "metadata": {},
   "source": [
    "### 1.2 Installing Tensorflow and Keras"
   ]
  },
  {
   "cell_type": "markdown",
   "metadata": {},
   "source": [
    "To get started, install the Tensorflow (CPU version by default or GPU version) in your PC. You need to follow the guide here: https://www.tensorflow.org/install/.\n",
    "* Windows: https://www.tensorflow.org/install/install_windows\n",
    "* Linux: https://www.tensorflow.org/install/install_linux\n",
    "* Mac OS: https://www.tensorflow.org/install/install_mac"
   ]
  },
  {
   "cell_type": "markdown",
   "metadata": {},
   "source": [
    "Next, you need to install Keras. Keras is a high-level neural networks API, written in Python and capable of running on top of TensorFlow, CNTK, or Theano. It was developed with a focus on enabling fast experimentation. You need to follow the guide here: https://keras.io/#installation. After installation, let us try a simple model using Keras."
   ]
  },
  {
   "cell_type": "markdown",
   "metadata": {},
   "source": [
    "#### Getting started: 30 seconds to Keras\n",
    "Source: https://keras.io/#getting-started-30-seconds-to-keras <br/>\n",
    "Note: This section is the same as the content in the above link. It simply shows how to setup and train a neural network model. \n",
    "\n",
    "The core data structure of Keras is a model, a way to organize layers. The simplest type of model is the `Sequential` model, a linear stack of layers. For more complex architectures, you should use the Keras functional API, which allows to build arbitrary graphs of layers.\n",
    "\n",
    "Here is the `Sequential` model:\n",
    "\n",
    "```python\n",
    "from keras.models import Sequential\n",
    "model = Sequential()\n",
    "```\n",
    "\n",
    "Stacking layers is as easy as `.add()`:\n",
    "\n",
    "```python\n",
    "from keras.layers import Dense\n",
    "model.add(Dense(units=64, activation='relu', input_dim=100))\n",
    "model.add(Dense(units=10, activation='softmax'))\n",
    "```\n",
    "\n",
    "Once your model looks good, configure its learning process with `.compile()`:\n",
    "\n",
    "```python\n",
    "model.compile(loss='categorical_crossentropy',\n",
    "              optimizer='sgd',\n",
    "              metrics=['accuracy'])\n",
    "```\n",
    "\n",
    "If you need to, you can further configure your optimizer. A core principle of Keras is to make things reasonably simple, while allowing the user to be fully in control when they need to (the ultimate control being the easy extensibility of the source code).\n",
    "\n",
    "```python\n",
    "model.compile(loss=keras.losses.categorical_crossentropy,\n",
    "              optimizer=keras.optimizers.SGD(lr=0.01, momentum=0.9, nesterov=True))\n",
    "```\n",
    "\n",
    "You can now iterate on your training data in batches:\n",
    "\n",
    "```python\n",
    "# x_train and y_train are Numpy arrays --just like in the Scikit-Learn API.\n",
    "model.fit(x_train, y_train, epochs=5, batch_size=32)\n",
    "```\n",
    "\n",
    "Alternatively, you can feed batches to your model manually:\n",
    "\n",
    "```python\n",
    "model.train_on_batch(x_batch, y_batch)\n",
    "```\n",
    "\n",
    "Evaluate your performance in one line:\n",
    "\n",
    "```python\n",
    "loss_and_metrics = model.evaluate(x_test, y_test, batch_size=128)\n",
    "```\n",
    "\n",
    "Or generate predictions on new data:\n",
    "\n",
    "```python\n",
    "classes = model.predict(x_test, batch_size=128)\n",
    "```\n",
    "\n",
    "Building a question answering system, an image classification model, a Neural Turing Machine, or any other model is just as fast. The ideas behind deep learning are simple, so why should their implementation be painful?\n",
    "\n",
    "For a more in-depth tutorial about Keras, you can check out:\n",
    "\n",
    "* [Getting started with the Sequential model](https://keras.io/getting-started/sequential-model-guide)\n",
    "* [Getting started with the functional API](https://keras.io/getting-started/functional-api-guide)\n",
    "\n",
    "In the [examples folder](https://github.com/keras-team/keras/tree/master/examples) of the repository, you will find more advanced models: question-answering with memory networks, text generation with stacked LSTMs, etc."
   ]
  },
  {
   "cell_type": "markdown",
   "metadata": {},
   "source": [
    "## 2 Experiment Using Keras"
   ]
  },
  {
   "cell_type": "markdown",
   "metadata": {},
   "source": [
    "### Case I: Multi-class Classification"
   ]
  },
  {
   "cell_type": "markdown",
   "metadata": {},
   "source": [
    "We are going to practice with handwritten digital from MINIST dataset, which is the representative data to explore machine learning techniques. We are going to practice to learn the basics of Keras by walking through a simple example: MINIST consists of $28\\times28$ grayscale images of handwritten digits like these:\n",
    "\n",
    "<img src=\"https://cdn-images-1.medium.com/max/1600/1*_4Ua9Zp84He8OxlZ4cy0DQ@2x.png\" width=\"500\">\n",
    "\n",
    "The dataset also includes labels for each image, telling us which digit it is. For example, the labels for the above images are 5, 0, 4, and 1."
   ]
  },
  {
   "cell_type": "code",
   "execution_count": 7,
   "metadata": {},
   "outputs": [],
   "source": [
    "# Load packages\n",
    "import numpy as np\n",
    "import scipy\n",
    "import keras\n",
    "from keras.models import Sequential\n",
    "from keras.layers import Dense, Dropout\n",
    "from __future__ import division\n",
    "import matplotlib.pyplot as plt\n",
    "%matplotlib inline"
   ]
  },
  {
   "cell_type": "code",
   "execution_count": 8,
   "metadata": {},
   "outputs": [],
   "source": [
    "# Load the MNIST data\n",
    "from keras.datasets import mnist\n",
    "\n",
    "# the data, split between train and test sets\n",
    "(x_train, y_train), (x_test, y_test) = mnist.load_data()"
   ]
  },
  {
   "cell_type": "markdown",
   "metadata": {},
   "source": [
    "Ths X data is a 3D Array (images, width, height) of grayscale values. To prepare the data for training, we should convert the 3D Array to matrices by reshaping width and height into a single dimension (i.e., $28\\times28$ images are flatterned into length 784 vectors). Then, we rescale the grayscale values from integers ranging between 0 to 255 into floating point values ranging between 0 and 1."
   ]
  },
  {
   "cell_type": "code",
   "execution_count": 9,
   "metadata": {},
   "outputs": [],
   "source": [
    "x_train_new = x_train.reshape(x_train.shape[0], 784) / 255\n",
    "x_test_new = x_test.reshape(x_test.shape[0], 784) / 255"
   ]
  },
  {
   "cell_type": "markdown",
   "metadata": {},
   "source": [
    "The y data is an integer vector with values ranging from 0 to 9. To prepare this data for training we should encode the vectors into binary class matrices using the Keras function `to_categorical()`."
   ]
  },
  {
   "cell_type": "code",
   "execution_count": 10,
   "metadata": {},
   "outputs": [],
   "source": [
    "y_train_new = keras.utils.to_categorical(y_train, 10)\n",
    "y_test_new = keras.utils.to_categorical(y_test, 10)"
   ]
  },
  {
   "cell_type": "code",
   "execution_count": 11,
   "metadata": {},
   "outputs": [
    {
     "name": "stdout",
     "output_type": "stream",
     "text": [
      "_________________________________________________________________\n",
      "Layer (type)                 Output Shape              Param #   \n",
      "=================================================================\n",
      "dense_1 (Dense)              (None, 256)               200960    \n",
      "_________________________________________________________________\n",
      "dropout_1 (Dropout)          (None, 256)               0         \n",
      "_________________________________________________________________\n",
      "dense_2 (Dense)              (None, 128)               32896     \n",
      "_________________________________________________________________\n",
      "dropout_2 (Dropout)          (None, 128)               0         \n",
      "_________________________________________________________________\n",
      "dense_3 (Dense)              (None, 10)                1290      \n",
      "=================================================================\n",
      "Total params: 235,146\n",
      "Trainable params: 235,146\n",
      "Non-trainable params: 0\n",
      "_________________________________________________________________\n"
     ]
    }
   ],
   "source": [
    "# Then we can try the sequential model\n",
    "model = Sequential()\n",
    "\n",
    "# First hidden layer\n",
    "model.add(Dense(units=256, activation='relu', input_dim=784))\n",
    "model.add(Dropout(0.4))\n",
    "\n",
    "# Second hidden layer\n",
    "model.add(Dense(units=128, activation='relu'))\n",
    "model.add(Dropout(0.3))\n",
    "\n",
    "# Output layer\n",
    "model.add(Dense(units=10, activation='sigmoid'))\n",
    "\n",
    "# The argument for the first layer specifies the shape of the input data (a length 784 numeric vector representing a grayscale image). \n",
    "# The final layer outputs a length 10 numeric vector (probabilities for each digit) using a softmax activation function.\n",
    "model.summary()"
   ]
  },
  {
   "cell_type": "markdown",
   "metadata": {},
   "source": [
    "#### Some activation functions:\n",
    "\n",
    "<img src=\"https://cdn-images-1.medium.com/max/1600/1*p_hyqAtyI8pbt2kEl6siOQ.png\" width=\"900\">"
   ]
  },
  {
   "cell_type": "code",
   "execution_count": 12,
   "metadata": {},
   "outputs": [],
   "source": [
    "# Then we can compile the model with appropriate loss function, optimizer and metrics \n",
    "model.compile(loss='categorical_crossentropy', optimizer=keras.optimizers.rmsprop(), metrics=['accuracy'])"
   ]
  },
  {
   "cell_type": "code",
   "execution_count": 13,
   "metadata": {},
   "outputs": [
    {
     "name": "stdout",
     "output_type": "stream",
     "text": [
      "Train on 48000 samples, validate on 12000 samples\n",
      "Epoch 1/15\n",
      "48000/48000 [==============================] - 6s 118us/step - loss: 0.5012 - acc: 0.8502 - val_loss: 0.1755 - val_acc: 0.9486\n",
      "Epoch 2/15\n",
      "48000/48000 [==============================] - 5s 103us/step - loss: 0.2166 - acc: 0.9367 - val_loss: 0.1316 - val_acc: 0.9616\n",
      "Epoch 3/15\n",
      "48000/48000 [==============================] - 5s 102us/step - loss: 0.1661 - acc: 0.9517 - val_loss: 0.1106 - val_acc: 0.9693\n",
      "Epoch 4/15\n",
      "48000/48000 [==============================] - 5s 106us/step - loss: 0.1365 - acc: 0.9603 - val_loss: 0.1018 - val_acc: 0.9710\n",
      "Epoch 5/15\n",
      "48000/48000 [==============================] - 5s 101us/step - loss: 0.1203 - acc: 0.9658 - val_loss: 0.1072 - val_acc: 0.9716\n",
      "Epoch 6/15\n",
      "48000/48000 [==============================] - 5s 100us/step - loss: 0.1114 - acc: 0.9681 - val_loss: 0.0956 - val_acc: 0.9757\n",
      "Epoch 7/15\n",
      "48000/48000 [==============================] - 5s 112us/step - loss: 0.1017 - acc: 0.9700 - val_loss: 0.0942 - val_acc: 0.9764\n",
      "Epoch 8/15\n",
      "48000/48000 [==============================] - 5s 102us/step - loss: 0.0965 - acc: 0.9719 - val_loss: 0.0990 - val_acc: 0.9752\n",
      "Epoch 9/15\n",
      "48000/48000 [==============================] - 5s 106us/step - loss: 0.0874 - acc: 0.9748 - val_loss: 0.0978 - val_acc: 0.9756\n",
      "Epoch 10/15\n",
      "48000/48000 [==============================] - 5s 107us/step - loss: 0.0842 - acc: 0.9760 - val_loss: 0.0994 - val_acc: 0.9764\n",
      "Epoch 11/15\n",
      "48000/48000 [==============================] - 5s 105us/step - loss: 0.0800 - acc: 0.9770 - val_loss: 0.0962 - val_acc: 0.9782\n",
      "Epoch 12/15\n",
      "48000/48000 [==============================] - 6s 121us/step - loss: 0.0789 - acc: 0.9775 - val_loss: 0.0954 - val_acc: 0.9781\n",
      "Epoch 13/15\n",
      "48000/48000 [==============================] - 5s 102us/step - loss: 0.0727 - acc: 0.9793 - val_loss: 0.0950 - val_acc: 0.9779\n",
      "Epoch 14/15\n",
      "48000/48000 [==============================] - 7s 138us/step - loss: 0.0713 - acc: 0.9798 - val_loss: 0.1006 - val_acc: 0.9787\n",
      "Epoch 15/15\n",
      "48000/48000 [==============================] - 6s 119us/step - loss: 0.0665 - acc: 0.9810 - val_loss: 0.1017 - val_acc: 0.9779\n"
     ]
    }
   ],
   "source": [
    "# Train the model with 30 epochs and batches of 128 images\n",
    "history = model.fit(x_train_new, y_train_new, epochs=15, batch_size=128, validation_split=0.2)"
   ]
  },
  {
   "cell_type": "code",
   "execution_count": 14,
   "metadata": {},
   "outputs": [
    {
     "name": "stdout",
     "output_type": "stream",
     "text": [
      "10000/10000 [==============================] - 0s 34us/step\n"
     ]
    },
    {
     "data": {
      "text/plain": [
       "[0.08617536243118812, 0.9796]"
      ]
     },
     "execution_count": 14,
     "metadata": {},
     "output_type": "execute_result"
    }
   ],
   "source": [
    "# Evaluate model performance on test data\n",
    "loss_and_metrics = model.evaluate(x_test_new, y_test_new, batch_size=128)\n",
    "loss_and_metrics #[loss, accuracy]"
   ]
  },
  {
   "cell_type": "code",
   "execution_count": 15,
   "metadata": {},
   "outputs": [
    {
     "data": {
      "text/plain": [
       "array([7, 2, 1, ..., 4, 5, 6], dtype=int64)"
      ]
     },
     "execution_count": 15,
     "metadata": {},
     "output_type": "execute_result"
    }
   ],
   "source": [
    "# Make predictions on test data\n",
    "probabilities = model.predict(x_test_new, batch_size=128)\n",
    "classes = probabilities.argmax(axis=-1)\n",
    "classes"
   ]
  },
  {
   "cell_type": "code",
   "execution_count": 16,
   "metadata": {},
   "outputs": [
    {
     "data": {
      "image/png": "[encoded data removed]",
      "text/plain": [
       "<Figure size 432x288 with 1 Axes>"
      ]
     },
     "metadata": {},
     "output_type": "display_data"
    }
   ],
   "source": [
    "# What does the first image in x_test_new look like\n",
    "# Whether we predict it correctly?\n",
    "import matplotlib.pyplot as plt\n",
    "from __future__ import division\n",
    "%matplotlib inline\n",
    "\n",
    "plt.imshow(np.array(x_test_new[0,:]).reshape((28, 28)), cmap=\"gray\")\n",
    "plt.title(\"This digit is %d\" % classes[0])\n",
    "plt.show()"
   ]
  },
  {
   "cell_type": "code",
   "execution_count": 17,
   "metadata": {},
   "outputs": [
    {
     "data": {
      "image/png": "[encoded data removed]",
      "text/plain": [
       "<Figure size 720x360 with 1 Axes>"
      ]
     },
     "metadata": {},
     "output_type": "display_data"
    },
    {
     "data": {
      "image/png": "[encoded data removed]",
      "text/plain": [
       "<Figure size 720x360 with 1 Axes>"
      ]
     },
     "metadata": {},
     "output_type": "display_data"
    }
   ],
   "source": [
    "# Plot loss and accuracy \n",
    "fig = plt.figure(figsize=(10,5))\n",
    "\n",
    "#plt.subplot(1, 2, 1)\n",
    "plt.plot(history.epoch, history.history['val_loss'], 'g-', label='Validation data')\n",
    "plt.plot(history.epoch, history.history['loss'], 'r--', label='Training data')\n",
    "plt.grid(True)\n",
    "plt.xlabel('Number of epochs')\n",
    "plt.ylabel('Loss on training/validation data')\n",
    "plt.legend(bbox_to_anchor=(1.05, 1), loc=2, borderaxespad=0.)\n",
    "plt.show()\n",
    "\n",
    "#plt.subplot(1, 2, 2)\n",
    "fig = plt.figure(figsize=(10,5))\n",
    "plt.plot(history.epoch, history.history['val_acc'], 'g-', label='Validation data')\n",
    "plt.plot(history.epoch, history.history['acc'], 'r--', label='Training data')\n",
    "plt.grid(True)\n",
    "plt.xlabel('Number of epochs')\n",
    "plt.ylabel('Accuracy on training/validation data')\n",
    "plt.legend(bbox_to_anchor=(1.05, 1), loc=2, borderaxespad=0.)\n",
    "plt.show()"
   ]
  },
  {
   "cell_type": "markdown",
   "metadata": {},
   "source": []
  },
  {
   "cell_type": "markdown",
   "metadata": {},
   "source": [
    "### Case II: Regression "
   ]
  },
  {
   "cell_type": "markdown",
   "metadata": {},
   "source": [
    "We are going to practice with regression problem. In regression, usually output is continuous and numerical, which is different from classification problem.\n",
    "\n",
    "The example here is based on the case in [\"Machine Learning with Python Cookbook\"](#3-References). The codes here are revised and different from the original ones."
   ]
  },
  {
   "cell_type": "code",
   "execution_count": 18,
   "metadata": {},
   "outputs": [],
   "source": [
    "# import packages and load dataset\n",
    "from sklearn.datasets import make_regression\n",
    "from sklearn.model_selection import train_test_split\n",
    "\n",
    "X, y = make_regression(n_samples=10000, n_features=3, n_informative=3, n_targets=1, noise=0.0, random_state=0)"
   ]
  },
  {
   "cell_type": "code",
   "execution_count": 19,
   "metadata": {},
   "outputs": [],
   "source": [
    "# Split dataset\n",
    "X_train, X_test, y_train, y_test = train_test_split(X, y, test_size=0.3, random_state=0)"
   ]
  },
  {
   "cell_type": "code",
   "execution_count": 20,
   "metadata": {},
   "outputs": [
    {
     "name": "stdout",
     "output_type": "stream",
     "text": [
      "_________________________________________________________________\n",
      "Layer (type)                 Output Shape              Param #   \n",
      "=================================================================\n",
      "dense_4 (Dense)              (None, 32)                128       \n",
      "_________________________________________________________________\n",
      "dropout_3 (Dropout)          (None, 32)                0         \n",
      "_________________________________________________________________\n",
      "dense_5 (Dense)              (None, 32)                1056      \n",
      "_________________________________________________________________\n",
      "dropout_4 (Dropout)          (None, 32)                0         \n",
      "_________________________________________________________________\n",
      "dense_6 (Dense)              (None, 1)                 33        \n",
      "=================================================================\n",
      "Total params: 1,217\n",
      "Trainable params: 1,217\n",
      "Non-trainable params: 0\n",
      "_________________________________________________________________\n"
     ]
    }
   ],
   "source": [
    "# Setup neural network\n",
    "model = Sequential()\n",
    "model.add(Dense(units=32, activation='relu', input_dim=X_train.shape[1]))\n",
    "model.add(Dropout(0.4))\n",
    "model.add(Dense(units=32, activation='relu'))\n",
    "model.add(Dropout(0.3))\n",
    "model.add(Dense(units=1))\n",
    "\n",
    "model.summary()"
   ]
  },
  {
   "cell_type": "code",
   "execution_count": 21,
   "metadata": {},
   "outputs": [],
   "source": [
    "# Complile the model: based on mean-squared-error metrics\n",
    "model.compile(loss='mse', optimizer=keras.optimizers.rmsprop(), metrics=['mse'])"
   ]
  },
  {
   "cell_type": "code",
   "execution_count": 22,
   "metadata": {},
   "outputs": [
    {
     "name": "stdout",
     "output_type": "stream",
     "text": [
      "Train on 7000 samples, validate on 3000 samples\n",
      "Epoch 1/10\n",
      "7000/7000 [==============================] - 1s 104us/step - loss: 17325.7645 - mean_squared_error: 17325.7645 - val_loss: 18016.5553 - val_mean_squared_error: 18016.5553\n",
      "Epoch 2/10\n",
      "7000/7000 [==============================] - 0s 31us/step - loss: 16592.8682 - mean_squared_error: 16592.8682 - val_loss: 16813.3006 - val_mean_squared_error: 16813.3006\n",
      "Epoch 3/10\n",
      "7000/7000 [==============================] - 0s 37us/step - loss: 15005.7662 - mean_squared_error: 15005.7662 - val_loss: 14668.8891 - val_mean_squared_error: 14668.8891\n",
      "Epoch 4/10\n",
      "7000/7000 [==============================] - 0s 47us/step - loss: 12626.4738 - mean_squared_error: 12626.4738 - val_loss: 11651.5419 - val_mean_squared_error: 11651.5419\n",
      "Epoch 5/10\n",
      "7000/7000 [==============================] - 0s 41us/step - loss: 9522.1765 - mean_squared_error: 9522.1765 - val_loss: 8102.9256 - val_mean_squared_error: 8102.9256\n",
      "Epoch 6/10\n",
      "7000/7000 [==============================] - 0s 34us/step - loss: 6565.2543 - mean_squared_error: 6565.2543 - val_loss: 4963.7599 - val_mean_squared_error: 4963.7599\n",
      "Epoch 7/10\n",
      "7000/7000 [==============================] - 0s 37us/step - loss: 4161.1974 - mean_squared_error: 4161.1974 - val_loss: 2695.0204 - val_mean_squared_error: 2695.0204\n",
      "Epoch 8/10\n",
      "7000/7000 [==============================] - 0s 29us/step - loss: 2713.6304 - mean_squared_error: 2713.6304 - val_loss: 1307.5781 - val_mean_squared_error: 1307.5781\n",
      "Epoch 9/10\n",
      "7000/7000 [==============================] - 0s 29us/step - loss: 1931.5600 - mean_squared_error: 1931.5600 - val_loss: 699.5719 - val_mean_squared_error: 699.5719\n",
      "Epoch 10/10\n",
      "7000/7000 [==============================] - 0s 32us/step - loss: 1719.0612 - mean_squared_error: 1719.0612 - val_loss: 553.9813 - val_mean_squared_error: 553.9813\n"
     ]
    }
   ],
   "source": [
    "# Train and fit the neural network\n",
    "history = model.fit(X_train, y_train, epochs=10, batch_size=100, validation_data=(X_test, y_test))"
   ]
  },
  {
   "cell_type": "code",
   "execution_count": 23,
   "metadata": {},
   "outputs": [
    {
     "data": {
      "text/plain": [
       "{'val_loss': [18016.555338541668,\n",
       "  16813.300618489582,\n",
       "  14668.8890625,\n",
       "  11651.541927083334,\n",
       "  8102.9255859375,\n",
       "  4963.759855143229,\n",
       "  2695.020373535156,\n",
       "  1307.5780822753907,\n",
       "  699.5718577067057,\n",
       "  553.9812530517578],\n",
       " 'val_mean_squared_error': [18016.555338541668,\n",
       "  16813.300618489582,\n",
       "  14668.8890625,\n",
       "  11651.541927083334,\n",
       "  8102.9255859375,\n",
       "  4963.759855143229,\n",
       "  2695.020373535156,\n",
       "  1307.5780822753907,\n",
       "  699.5718577067057,\n",
       "  553.9812530517578],\n",
       " 'loss': [17325.764536830357,\n",
       "  16592.868247767856,\n",
       "  15005.766169084822,\n",
       "  12626.473786272321,\n",
       "  9522.176506696429,\n",
       "  6565.2542689732145,\n",
       "  4161.1973876953125,\n",
       "  2713.630376325335,\n",
       "  1931.5600333077566,\n",
       "  1719.0612365722657],\n",
       " 'mean_squared_error': [17325.764536830357,\n",
       "  16592.868247767856,\n",
       "  15005.766169084822,\n",
       "  12626.473786272321,\n",
       "  9522.176506696429,\n",
       "  6565.2542689732145,\n",
       "  4161.1973876953125,\n",
       "  2713.630376325335,\n",
       "  1931.5600333077566,\n",
       "  1719.0612365722657]}"
      ]
     },
     "execution_count": 23,
     "metadata": {},
     "output_type": "execute_result"
    }
   ],
   "source": [
    "history.history"
   ]
  },
  {
   "cell_type": "code",
   "execution_count": 23,
   "metadata": {},
   "outputs": [
    {
     "name": "stdout",
     "output_type": "stream",
     "text": [
      "3000/3000 [==============================] - 0s 7us/step\n"
     ]
    },
    {
     "data": {
      "text/plain": [
       "[590.0465291341146, 590.0465291341146]"
      ]
     },
     "execution_count": 23,
     "metadata": {},
     "output_type": "execute_result"
    }
   ],
   "source": [
    "# Evaluate model performance on test data\n",
    "loss_and_metrics = model.evaluate(X_test, y_test, batch_size=100)\n",
    "loss_and_metrics #mse"
   ]
  },
  {
   "cell_type": "code",
   "execution_count": 24,
   "metadata": {},
   "outputs": [
    {
     "data": {
      "text/plain": [
       "array([[  97.5399 ],\n",
       "       [ -87.07983],\n",
       "       [-164.8793 ],\n",
       "       ...,\n",
       "       [-175.76294],\n",
       "       [ -51.01005],\n",
       "       [-137.00388]], dtype=float32)"
      ]
     },
     "execution_count": 24,
     "metadata": {},
     "output_type": "execute_result"
    }
   ],
   "source": [
    "# Make predictions on test data\n",
    "predict_output = model.predict(X_test, batch_size=100)\n",
    "predict_output"
   ]
  },
  {
   "cell_type": "code",
   "execution_count": 25,
   "metadata": {},
   "outputs": [
    {
     "data": {
      "image/png": "[encoded data removed]",
      "text/plain": [
       "<Figure size 432x288 with 1 Axes>"
      ]
     },
     "metadata": {
      "needs_background": "light"
     },
     "output_type": "display_data"
    },
    {
     "data": {
      "image/png": "[encoded data removed]",
      "text/plain": [
       "<Figure size 432x288 with 1 Axes>"
      ]
     },
     "metadata": {
      "needs_background": "light"
     },
     "output_type": "display_data"
    }
   ],
   "source": [
    "# Plot loss and accuracy \n",
    "fig = plt.figure()\n",
    "\n",
    "#plt.subplot(1, 2, 1)\n",
    "plt.plot(history.epoch, history.history['val_loss'], 'g-', label='Validation data')\n",
    "plt.plot(history.epoch, history.history['loss'], 'r--', label='Training data')\n",
    "plt.grid(True)\n",
    "plt.xlabel('Number of epochs')\n",
    "plt.ylabel('Loss on training/validation data')\n",
    "plt.legend(bbox_to_anchor=(1.05, 1), loc=2, borderaxespad=0.)\n",
    "plt.show()\n",
    "\n",
    "#plt.subplot(1, 2, 2)\n",
    "plt.plot(history.epoch, history.history['val_mean_squared_error'], 'g-', label='Validation data')\n",
    "plt.plot(history.epoch, history.history['mean_squared_error'], 'r--', label='Training data')\n",
    "plt.grid(True)\n",
    "plt.xlabel('Number of epochs')\n",
    "plt.ylabel('MSE on training/validation data')\n",
    "plt.legend(bbox_to_anchor=(1.05, 1), loc=2, borderaxespad=0.)\n",
    "plt.show()"
   ]
  },
  {
   "cell_type": "markdown",
   "metadata": {},
   "source": [
    "Now it is your turn. Read Tensorflow and Keras documents and examples. Familiarize yourself with applications of neural network models. "
   ]
  },
  {
   "cell_type": "markdown",
   "metadata": {},
   "source": [
    "## 3 Assignments (5 points)\n",
    "\n",
    "### Purpose of this assignment is to familiarize yourself with tensorflow and keras"
   ]
  },
  {
   "cell_type": "markdown",
   "metadata": {},
   "source": [
    "#### Dataset on Hand Writen Digits: The same dataset used in Tutorial 3 Ensemble Learning. Remember in tutorial 3, the accuracy of single decision tree model is about 86%, bagging model 95%, random forest model 96%. Let us check the performance of neural network model\n",
    "\n",
    "**Dataset:**\n",
    "\n",
    "The Kaggle competition dataset can be obtained from https://www.kaggle.com/c/digit-recognizer/data.\n",
    "\n",
    "**Overview:**\n",
    "\n",
    "MNIST (\"Modified National Institute of Standards and Technology\") is the de facto “hello world” dataset of computer vision. Since its release in 1999, this classic dataset of handwritten images has served as the basis for benchmarking classification algorithms. As new machine learning techniques emerge, MNIST remains a reliable resource for researchers and learners alike.\n",
    "\n",
    "In this competition, your goal is to correctly identify digits from a dataset of tens of thousands of handwritten images. We’ve curated a set of tutorial-style kernels which cover everything from regression to neural networks. We encourage you to experiment with different algorithms to learn first-hand what works well and how techniques compare.\n",
    "\n",
    "**Acknowlegements:**\n",
    "\n",
    "More details about the dataset, including algorithms that have been tried on it and their levels of success, can be found at http://yann.lecun.com/exdb/mnist/index.html. The dataset is made available under a Creative Commons Attribution-Share Alike 3.0 license.\n",
    "\n",
    "**Attributes:**\n",
    "\n",
    "The data files train.csv and test.csv contain gray-scale images of hand-drawn digits, from zero through nine.\n",
    "\n",
    "Each image is 28 pixels in height and 28 pixels in width, for a total of 784 pixels in total. Each pixel has a single pixel-value associated with it, indicating the lightness or darkness of that pixel, with higher numbers meaning darker. This pixel-value is an integer between 0 and 255, inclusive.\n",
    "\n",
    "The training data set, (train.csv), has 785 columns. The first column, called \"label\", is the digit that was drawn by the user. The rest of the columns contain the pixel-values of the associated image.\n",
    "\n",
    "Each pixel column in the training set has a name like pixelx, where x is an integer between 0 and 783, inclusive. To locate this pixel on the image, suppose that we have decomposed x as x = i * 28 + j, where i and j are integers between 0 and 27, inclusive. Then pixelx is located on row i and column j of a 28 x 28 matrix, (indexing by zero).\n",
    "\n",
    "The test data set, (test.csv), is the same as the training set, except that it does not contain the \"label\" column.\n",
    "\n",
    "The evaluation metric for this contest is the categorization accuracy, or the proportion of test images that are correctly classified. For example, a categorization accuracy of 0.97 indicates that you have correctly classified all but 3% of the images."
   ]
  },
  {
   "cell_type": "code",
   "execution_count": 48,
   "metadata": {},
   "outputs": [],
   "source": [
    "# Load packages\n",
    "import numpy as np\n",
    "import pandas as pd\n",
    "import scipy\n",
    "import keras\n",
    "from keras.models import Sequential\n",
    "from keras.layers import Dense, Dropout\n",
    "from sklearn.model_selection import train_test_split\n",
    "from __future__ import division\n",
    "import matplotlib.pyplot as plt\n",
    "%matplotlib inline"
   ]
  },
  {
   "cell_type": "code",
   "execution_count": 49,
   "metadata": {},
   "outputs": [],
   "source": [
    "# Load dataset: You need to download dataset first\n",
    "%pwd\n",
    "train = pd.read_csv('./train.csv')"
   ]
  },
  {
   "cell_type": "code",
   "execution_count": 50,
   "metadata": {},
   "outputs": [
    {
     "data": {
      "text/plain": [
       "(42000, 785)"
      ]
     },
     "execution_count": 50,
     "metadata": {},
     "output_type": "execute_result"
    }
   ],
   "source": [
    "# 42,000 pictures; Each picture is composed of 28*28 dimensional pixels\n",
    "train.shape"
   ]
  },
  {
   "cell_type": "code",
   "execution_count": 51,
   "metadata": {},
   "outputs": [
    {
     "data": {
      "image/png": "[encoded data removed]",
      "text/plain": [
       "<Figure size 432x288 with 1 Axes>"
      ]
     },
     "metadata": {},
     "output_type": "display_data"
    }
   ],
   "source": [
    "# What does an image look like\n",
    "plt.imshow(np.array(train.iloc[1,1:]).reshape((28, 28)), cmap=\"gray\")\n",
    "plt.title(\"This digit is %d\" % train.iloc[1,0])\n",
    "plt.show()"
   ]
  },
  {
   "cell_type": "code",
   "execution_count": 52,
   "metadata": {},
   "outputs": [],
   "source": [
    "# Transform features and outputs\n",
    "train_feature = train.iloc[:,1:].values / 255\n",
    "train_target = keras.utils.to_categorical(train.iloc[:,0], 10)"
   ]
  },
  {
   "cell_type": "markdown",
   "metadata": {},
   "source": [
    "### Question 1. Create a neural network model, and show model performance (3 points)\n",
    "\n",
    "#### Hint:\n",
    "* Create a neural network in a sequential way\n",
    "* Set 1st hidden layer with parameters: `units=256`, `activation='relu'`, `input_dim=784`\n",
    "* Set dropout rate to 0.3\n",
    "* Set 2nd hidden layer with parameters: `units=128`, `activation='relu'`\n",
    "* Set dropout rate to 0.3\n",
    "* Set 3rd hidden layer with parameters: `units=64`, `activation='relu'`\n",
    "* Set output layer with parameters: `units=10`, `activation='sigmoid'`\n",
    "* Train the model with parameters: `epochs=30`, `batch_size=128`, `validation_split=0.3`\n",
    "* Compile the model with parameters: `loss='categorical_crossentropy'`, `optimizer='sgd'`, `metrics=['accuracy']`\n",
    "* Sample code:\n",
    "\n",
    "```python\n",
    "\n",
    "# Then we can try the sequential model\n",
    "model = Sequential()\n",
    "model.add(Dense(units=256, activation='relu', input_dim=784))\n",
    "model.add(Dropout(0.4))\n",
    "model.add(Dense(units=128, activation='relu'))\n",
    "model.add(Dropout(0.3))\n",
    "model.add(Dense(units=10, activation='softmax'))\n",
    "\n",
    "# The argument for the first layer specifies the shape of the input data (a length 784 numeric vector representing a grayscale image). \n",
    "# The final layer outputs a length 10 numeric vector (probabilities for each digit) using a softmax activation function.\n",
    "model.summary()\n",
    "\n",
    "# Then we can compile the model with appropriate loss function, optimizer and metrics \n",
    "model.compile(loss='categorical_crossentropy', optimizer=keras.optimizers.rmsprop(), metrics=['accuracy'])\n",
    "\n",
    "# Train the model with 30 epochs and batches of 128 images\n",
    "history = model.fit(x_train_new, y_train_new, epochs=30, batch_size=128, validation_split=0.3)\n",
    "\n",
    "# Evaluate model performance on test data\n",
    "loss_and_metrics = model.evaluate(x_test_new, y_test_new, batch_size=128)\n",
    "loss_and_metrics #[loss, accuracy]\n",
    "\n",
    "```\n",
    "\n",
    "References: https://keras.io/activations/"
   ]
  },
  {
   "cell_type": "code",
   "execution_count": 53,
   "metadata": {},
   "outputs": [
    {
     "name": "stdout",
     "output_type": "stream",
     "text": [
      "_________________________________________________________________\n",
      "Layer (type)                 Output Shape              Param #   \n",
      "=================================================================\n",
      "dense_11 (Dense)             (None, 256)               200960    \n",
      "_________________________________________________________________\n",
      "dropout_7 (Dropout)          (None, 256)               0         \n",
      "_________________________________________________________________\n",
      "dense_12 (Dense)             (None, 128)               32896     \n",
      "_________________________________________________________________\n",
      "dropout_8 (Dropout)          (None, 128)               0         \n",
      "_________________________________________________________________\n",
      "dense_13 (Dense)             (None, 64)                8256      \n",
      "_________________________________________________________________\n",
      "dense_14 (Dense)             (None, 10)                650       \n",
      "=================================================================\n",
      "Total params: 242,762\n",
      "Trainable params: 242,762\n",
      "Non-trainable params: 0\n",
      "_________________________________________________________________\n"
     ]
    }
   ],
   "source": [
    "# Then we can try the sequential model\n",
    "model = Sequential()\n",
    "\n",
    "# First layer\n",
    "# Write your code here\n",
    "model.add(Dense(units=256, activation='relu', input_dim=784))\n",
    "model.add(Dropout(0.3))\n",
    "\n",
    "# Second layer\n",
    "# Write your code here\n",
    "model.add(Dense(units=128, activation='relu'))\n",
    "model.add(Dropout(0.3))\n",
    "\n",
    "# Third layer\n",
    "# Write your code here\n",
    "model.add(Dense(units=64, activation='relu'))\n",
    "\n",
    "# Output layer\n",
    "# Write your code here\n",
    "model.add(Dense(units=10, activation='sigmoid'))\n",
    "\n",
    "# The argument for the first layer specifies the shape of the input data (a length 784 numeric vector representing a grayscale image). \n",
    "# The final layer outputs a length 10 numeric vector (probabilities for each digit) using a softmax activation function.\n",
    "model.summary()"
   ]
  },
  {
   "cell_type": "code",
   "execution_count": 54,
   "metadata": {},
   "outputs": [],
   "source": [
    "# Then we can compile the model with appropriate loss function, optimizer and metrics \n",
    "# Write your code here\n",
    "model.compile(loss='categorical_crossentropy', optimizer='sgd', metrics=['accuracy'])"
   ]
  },
  {
   "cell_type": "code",
   "execution_count": 55,
   "metadata": {
    "scrolled": false
   },
   "outputs": [
    {
     "name": "stdout",
     "output_type": "stream",
     "text": [
      "Train on 29399 samples, validate on 12601 samples\n",
      "Epoch 1/30\n",
      "29399/29399 [==============================] - 4s 148us/step - loss: 2.2208 - acc: 0.2218 - val_loss: 2.0791 - val_acc: 0.5461\n",
      "Epoch 2/30\n",
      "29399/29399 [==============================] - 5s 155us/step - loss: 1.9202 - acc: 0.4404 - val_loss: 1.4299 - val_acc: 0.7360\n",
      "Epoch 3/30\n",
      "29399/29399 [==============================] - 4s 149us/step - loss: 1.2532 - acc: 0.6196 - val_loss: 0.7516 - val_acc: 0.8054\n",
      "Epoch 4/30\n",
      "29399/29399 [==============================] - 4s 128us/step - loss: 0.8695 - acc: 0.7274 - val_loss: 0.5629 - val_acc: 0.8428\n",
      "Epoch 5/30\n",
      "29399/29399 [==============================] - 4s 128us/step - loss: 0.7140 - acc: 0.7785 - val_loss: 0.4757 - val_acc: 0.8627\n",
      "Epoch 6/30\n",
      "29399/29399 [==============================] - 4s 128us/step - loss: 0.6201 - acc: 0.8084 - val_loss: 0.4232 - val_acc: 0.8777\n",
      "Epoch 7/30\n",
      "29399/29399 [==============================] - 4s 141us/step - loss: 0.5641 - acc: 0.8265 - val_loss: 0.3812 - val_acc: 0.8909\n",
      "Epoch 8/30\n",
      "29399/29399 [==============================] - 4s 129us/step - loss: 0.5208 - acc: 0.8430 - val_loss: 0.3521 - val_acc: 0.8997\n",
      "Epoch 9/30\n",
      "29399/29399 [==============================] - 4s 136us/step - loss: 0.4822 - acc: 0.8546 - val_loss: 0.3298 - val_acc: 0.9057\n",
      "Epoch 10/30\n",
      "29399/29399 [==============================] - 4s 140us/step - loss: 0.4518 - acc: 0.8635 - val_loss: 0.3099 - val_acc: 0.9092\n",
      "Epoch 11/30\n",
      "29399/29399 [==============================] - 4s 141us/step - loss: 0.4291 - acc: 0.8711 - val_loss: 0.2954 - val_acc: 0.9129\n",
      "Epoch 12/30\n",
      "29399/29399 [==============================] - 4s 126us/step - loss: 0.4064 - acc: 0.8777 - val_loss: 0.2828 - val_acc: 0.9171\n",
      "Epoch 13/30\n",
      "29399/29399 [==============================] - 4s 126us/step - loss: 0.3958 - acc: 0.8819 - val_loss: 0.2700 - val_acc: 0.9205\n",
      "Epoch 14/30\n",
      "29399/29399 [==============================] - 4s 128us/step - loss: 0.3772 - acc: 0.8868 - val_loss: 0.2619 - val_acc: 0.9225\n",
      "Epoch 15/30\n",
      "29399/29399 [==============================] - 4s 135us/step - loss: 0.3628 - acc: 0.8927 - val_loss: 0.2508 - val_acc: 0.9257\n",
      "Epoch 16/30\n",
      "29399/29399 [==============================] - 4s 139us/step - loss: 0.3459 - acc: 0.8958 - val_loss: 0.2444 - val_acc: 0.9268\n",
      "Epoch 17/30\n",
      "29399/29399 [==============================] - 4s 140us/step - loss: 0.3335 - acc: 0.8982 - val_loss: 0.2356 - val_acc: 0.9292\n",
      "Epoch 18/30\n",
      "29399/29399 [==============================] - 4s 138us/step - loss: 0.3246 - acc: 0.9019 - val_loss: 0.2284 - val_acc: 0.9314\n",
      "Epoch 19/30\n",
      "29399/29399 [==============================] - 4s 134us/step - loss: 0.3179 - acc: 0.9045 - val_loss: 0.2220 - val_acc: 0.9335\n",
      "Epoch 20/30\n",
      "29399/29399 [==============================] - 4s 128us/step - loss: 0.3099 - acc: 0.9062 - val_loss: 0.2152 - val_acc: 0.9356\n",
      "Epoch 21/30\n",
      "29399/29399 [==============================] - 4s 135us/step - loss: 0.2990 - acc: 0.9107 - val_loss: 0.2105 - val_acc: 0.9364\n",
      "Epoch 22/30\n",
      "29399/29399 [==============================] - 4s 135us/step - loss: 0.2924 - acc: 0.9135 - val_loss: 0.2077 - val_acc: 0.9371\n",
      "Epoch 23/30\n",
      "29399/29399 [==============================] - 4s 126us/step - loss: 0.2857 - acc: 0.9145 - val_loss: 0.2007 - val_acc: 0.9393\n",
      "Epoch 24/30\n",
      "29399/29399 [==============================] - 4s 124us/step - loss: 0.2758 - acc: 0.9175 - val_loss: 0.1968 - val_acc: 0.9405\n",
      "Epoch 25/30\n",
      "29399/29399 [==============================] - 4s 125us/step - loss: 0.2711 - acc: 0.9193 - val_loss: 0.1925 - val_acc: 0.9417\n",
      "Epoch 26/30\n",
      "29399/29399 [==============================] - 4s 126us/step - loss: 0.2638 - acc: 0.9216 - val_loss: 0.1872 - val_acc: 0.9437\n",
      "Epoch 27/30\n",
      "29399/29399 [==============================] - 4s 133us/step - loss: 0.2615 - acc: 0.9219 - val_loss: 0.1840 - val_acc: 0.9434\n",
      "Epoch 28/30\n",
      "29399/29399 [==============================] - 4s 144us/step - loss: 0.2543 - acc: 0.9251 - val_loss: 0.1805 - val_acc: 0.9447\n",
      "Epoch 29/30\n",
      "29399/29399 [==============================] - 4s 146us/step - loss: 0.2441 - acc: 0.9265 - val_loss: 0.1769 - val_acc: 0.9452\n",
      "Epoch 30/30\n",
      "29399/29399 [==============================] - 4s 133us/step - loss: 0.2418 - acc: 0.9279 - val_loss: 0.1736 - val_acc: 0.9471\n"
     ]
    }
   ],
   "source": [
    "# Train the model with 30 epochs and batches of 128 images\n",
    "# Write your code here\n",
    "history = model.fit(train_feature, train_target, epochs=30, batch_size=128, validation_split=0.3)"
   ]
  },
  {
   "cell_type": "code",
   "execution_count": 56,
   "metadata": {},
   "outputs": [
    {
     "name": "stdout",
     "output_type": "stream",
     "text": [
      "42000/42000 [==============================] - 2s 42us/step\n"
     ]
    },
    {
     "data": {
      "text/plain": [
       "[0.1635922322486128, 0.9511190476190476]"
      ]
     },
     "execution_count": 56,
     "metadata": {},
     "output_type": "execute_result"
    }
   ],
   "source": [
    "# Evaluate model performance on train data\n",
    "loss_and_metrics = model.evaluate(train_feature, train_target, batch_size=128)\n",
    "loss_and_metrics #[loss, accuracy]"
   ]
  },
  {
   "cell_type": "code",
   "execution_count": 57,
   "metadata": {},
   "outputs": [
    {
     "data": {
      "image/png": "[encoded data removed]",
      "text/plain": [
       "<Figure size 720x360 with 1 Axes>"
      ]
     },
     "metadata": {},
     "output_type": "display_data"
    },
    {
     "data": {
      "image/png": "[encoded data removed]",
      "text/plain": [
       "<Figure size 720x360 with 1 Axes>"
      ]
     },
     "metadata": {},
     "output_type": "display_data"
    }
   ],
   "source": [
    "# Plot loss and accuracy \n",
    "fig = plt.figure(figsize=(10,5))\n",
    "\n",
    "#plt.subplot(1, 2, 1)\n",
    "plt.plot(history.epoch, history.history['val_loss'], 'g-', label='Validation data')\n",
    "plt.plot(history.epoch, history.history['loss'], 'r--', label='Training data')\n",
    "plt.grid(True)\n",
    "plt.xlabel('Number of epochs')\n",
    "plt.ylabel('Loss on training/validation data')\n",
    "plt.legend(bbox_to_anchor=(1.05, 1), loc=2, borderaxespad=0.)\n",
    "plt.show()\n",
    "\n",
    "#plt.subplot(1, 2, 2)\n",
    "fig = plt.figure(figsize=(10,5))\n",
    "plt.plot(history.epoch, history.history['val_acc'], 'g-', label='Validation data')\n",
    "plt.plot(history.epoch, history.history['acc'], 'r--', label='Training data')\n",
    "plt.grid(True)\n",
    "plt.xlabel('Number of epochs')\n",
    "plt.ylabel('Accuracy on training/validation data')\n",
    "plt.legend(bbox_to_anchor=(1.05, 1), loc=2, borderaxespad=0.)\n",
    "plt.show()"
   ]
  },
  {
   "cell_type": "markdown",
   "metadata": {},
   "source": [
    "### Question 2. Predictions on the test data (1 point)\n",
    "\n",
    "#### Hint:\n",
    "\n",
    "* Predict class labels using `predict` function\n",
    "* Sample code:\n",
    "\n",
    "```python\n",
    "\n",
    "# Make predictions on test data\n",
    "probabilities = model.predict(x_test_new, batch_size=128)\n",
    "classes = probabilities.argmax(axis=-1)\n",
    "classes\n",
    "\n",
    "```\n",
    "\n",
    "References: https://keras.io/models/model/"
   ]
  },
  {
   "cell_type": "code",
   "execution_count": 58,
   "metadata": {},
   "outputs": [],
   "source": [
    "# Import test dataset\n",
    "test = pd.read_csv('./test.csv')\n",
    "\n",
    "# Transform features and outputs\n",
    "test_feature = test.iloc[:,:].values / 255"
   ]
  },
  {
   "cell_type": "code",
   "execution_count": 59,
   "metadata": {},
   "outputs": [
    {
     "data": {
      "text/plain": [
       "array([2, 0, 9, ..., 3, 9, 2], dtype=int64)"
      ]
     },
     "execution_count": 59,
     "metadata": {},
     "output_type": "execute_result"
    }
   ],
   "source": [
    "# Make predictions on test data\n",
    "# Write your code here\n",
    "probabilities = model.predict(test_feature, batch_size=128)\n",
    "classes = probabilities.argmax(axis=-1)\n",
    "classes"
   ]
  },
  {
   "cell_type": "code",
   "execution_count": 60,
   "metadata": {},
   "outputs": [
    {
     "data": {
      "image/png": "[encoded data removed]",
      "text/plain": [
       "<Figure size 432x288 with 1 Axes>"
      ]
     },
     "metadata": {},
     "output_type": "display_data"
    }
   ],
   "source": [
    "# What does the first image in test_feature look like\n",
    "# Whether do we predict it correctly?\n",
    "import matplotlib.pyplot as plt\n",
    "from __future__ import division\n",
    "%matplotlib inline\n",
    "\n",
    "plt.imshow(np.array(test_feature[0,:]).reshape((28, 28)), cmap=\"gray\")\n",
    "plt.title(\"This digit is %d\" % classes[0])\n",
    "plt.show()"
   ]
  },
  {
   "cell_type": "markdown",
   "metadata": {},
   "source": [
    "### Question 3. Does neural network model have overfit problems? If so, how do you avoid overfitting in neural network modeling? (1 point)"
   ]
  },
  {
   "cell_type": "markdown",
   "metadata": {},
   "source": [
    "Yes. We can introduce drop-outs, add some errors, change the weighted value of activation functions, use a different SGD or use regularization."
   ]
  },
  {
   "cell_type": "markdown",
   "metadata": {},
   "source": [
    "## 4 References\n",
    "[1] Chris Albon. (2018). Machine Learning with Python Cookbook. O'Reilly."
   ]
  }
 ],
 "metadata": {
  "kernelspec": {
   "display_name": "Python 3",
   "language": "python",
   "name": "python3"
  },
  "language_info": {
   "codemirror_mode": {
    "name": "ipython",
    "version": 3
   },
   "file_extension": ".py",
   "mimetype": "text/x-python",
   "name": "python",
   "nbconvert_exporter": "python",
   "pygments_lexer": "ipython3",
   "version": "3.6.5"
  }
 },
 "nbformat": 4,
 "nbformat_minor": 2
}
