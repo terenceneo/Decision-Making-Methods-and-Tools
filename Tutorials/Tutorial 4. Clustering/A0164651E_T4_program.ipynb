{
 "cells": [
  {
   "cell_type": "code",
   "execution_count": 1,
   "metadata": {},
   "outputs": [],
   "source": [
    "# -*- coding:utf-8 -*-\n",
    "import numpy as np\n",
    "import pandas as pd\n",
    "import matplotlib.pyplot as plt\n",
    "from __future__ import division\n",
    "from math import sqrt\n",
    "%matplotlib inline"
   ]
  },
  {
   "cell_type": "code",
   "execution_count": 2,
   "metadata": {},
   "outputs": [
    {
     "data": {
      "text/html": [
       "<div>\n",
       "<style scoped>\n",
       "    .dataframe tbody tr th:only-of-type {\n",
       "        vertical-align: middle;\n",
       "    }\n",
       "\n",
       "    .dataframe tbody tr th {\n",
       "        vertical-align: top;\n",
       "    }\n",
       "\n",
       "    .dataframe thead th {\n",
       "        text-align: right;\n",
       "    }\n",
       "</style>\n",
       "<table border=\"1\" class=\"dataframe\">\n",
       "  <thead>\n",
       "    <tr style=\"text-align: right;\">\n",
       "      <th></th>\n",
       "      <th>CUST_ID</th>\n",
       "      <th>BALANCE</th>\n",
       "      <th>PURCHASES</th>\n",
       "      <th>CASH_ADVANCE</th>\n",
       "      <th>CREDIT_LIMIT</th>\n",
       "      <th>PAYMENTS</th>\n",
       "      <th>MINIMUM_PAYMENTS</th>\n",
       "    </tr>\n",
       "  </thead>\n",
       "  <tbody>\n",
       "    <tr>\n",
       "      <th>0</th>\n",
       "      <td>C10001</td>\n",
       "      <td>40.900749</td>\n",
       "      <td>95.40</td>\n",
       "      <td>0.000000</td>\n",
       "      <td>1000.0</td>\n",
       "      <td>201.802084</td>\n",
       "      <td>139.509787</td>\n",
       "    </tr>\n",
       "    <tr>\n",
       "      <th>1</th>\n",
       "      <td>C10002</td>\n",
       "      <td>3202.467416</td>\n",
       "      <td>0.00</td>\n",
       "      <td>6442.945483</td>\n",
       "      <td>7000.0</td>\n",
       "      <td>4103.032597</td>\n",
       "      <td>1072.340217</td>\n",
       "    </tr>\n",
       "    <tr>\n",
       "      <th>2</th>\n",
       "      <td>C10003</td>\n",
       "      <td>2495.148862</td>\n",
       "      <td>773.17</td>\n",
       "      <td>0.000000</td>\n",
       "      <td>7500.0</td>\n",
       "      <td>622.066742</td>\n",
       "      <td>627.284787</td>\n",
       "    </tr>\n",
       "    <tr>\n",
       "      <th>3</th>\n",
       "      <td>C10004</td>\n",
       "      <td>1666.670542</td>\n",
       "      <td>1499.00</td>\n",
       "      <td>205.788017</td>\n",
       "      <td>7500.0</td>\n",
       "      <td>0.000000</td>\n",
       "      <td>NaN</td>\n",
       "    </tr>\n",
       "    <tr>\n",
       "      <th>4</th>\n",
       "      <td>C10005</td>\n",
       "      <td>817.714335</td>\n",
       "      <td>16.00</td>\n",
       "      <td>0.000000</td>\n",
       "      <td>1200.0</td>\n",
       "      <td>678.334763</td>\n",
       "      <td>244.791237</td>\n",
       "    </tr>\n",
       "  </tbody>\n",
       "</table>\n",
       "</div>"
      ],
      "text/plain": [
       "  CUST_ID      BALANCE  PURCHASES  CASH_ADVANCE  CREDIT_LIMIT     PAYMENTS  \\\n",
       "0  C10001    40.900749      95.40      0.000000        1000.0   201.802084   \n",
       "1  C10002  3202.467416       0.00   6442.945483        7000.0  4103.032597   \n",
       "2  C10003  2495.148862     773.17      0.000000        7500.0   622.066742   \n",
       "3  C10004  1666.670542    1499.00    205.788017        7500.0     0.000000   \n",
       "4  C10005   817.714335      16.00      0.000000        1200.0   678.334763   \n",
       "\n",
       "   MINIMUM_PAYMENTS  \n",
       "0        139.509787  \n",
       "1       1072.340217  \n",
       "2        627.284787  \n",
       "3               NaN  \n",
       "4        244.791237  "
      ]
     },
     "execution_count": 2,
     "metadata": {},
     "output_type": "execute_result"
    }
   ],
   "source": [
    "# Load libraries and dataset\n",
    "from sklearn import datasets\n",
    "from sklearn.preprocessing import StandardScaler, MinMaxScaler\n",
    "from sklearn.cluster import KMeans\n",
    "\n",
    "# Load data\n",
    "feature_list = ['BALANCE', 'PURCHASES', 'CASH_ADVANCE', 'CREDIT_LIMIT', 'PAYMENTS', 'MINIMUM_PAYMENTS']\n",
    "creditcard = pd.read_csv('./CC GENERAL.csv')[['CUST_ID']+feature_list]\n",
    "creditcard.head(n=5)"
   ]
  },
  {
   "cell_type": "code",
   "execution_count": 3,
   "metadata": {},
   "outputs": [
    {
     "data": {
      "text/html": [
       "<div>\n",
       "<style scoped>\n",
       "    .dataframe tbody tr th:only-of-type {\n",
       "        vertical-align: middle;\n",
       "    }\n",
       "\n",
       "    .dataframe tbody tr th {\n",
       "        vertical-align: top;\n",
       "    }\n",
       "\n",
       "    .dataframe thead th {\n",
       "        text-align: right;\n",
       "    }\n",
       "</style>\n",
       "<table border=\"1\" class=\"dataframe\">\n",
       "  <thead>\n",
       "    <tr style=\"text-align: right;\">\n",
       "      <th></th>\n",
       "      <th>BALANCE</th>\n",
       "      <th>PURCHASES</th>\n",
       "      <th>CASH_ADVANCE</th>\n",
       "      <th>CREDIT_LIMIT</th>\n",
       "      <th>PAYMENTS</th>\n",
       "      <th>MINIMUM_PAYMENTS</th>\n",
       "    </tr>\n",
       "  </thead>\n",
       "  <tbody>\n",
       "    <tr>\n",
       "      <th>count</th>\n",
       "      <td>8636.000000</td>\n",
       "      <td>8636.000000</td>\n",
       "      <td>8636.000000</td>\n",
       "      <td>8636.000000</td>\n",
       "      <td>8636.000000</td>\n",
       "      <td>8636.000000</td>\n",
       "    </tr>\n",
       "    <tr>\n",
       "      <th>mean</th>\n",
       "      <td>1601.224893</td>\n",
       "      <td>1025.433874</td>\n",
       "      <td>994.175523</td>\n",
       "      <td>4522.091030</td>\n",
       "      <td>1784.478099</td>\n",
       "      <td>864.304943</td>\n",
       "    </tr>\n",
       "    <tr>\n",
       "      <th>std</th>\n",
       "      <td>2095.571300</td>\n",
       "      <td>2167.107984</td>\n",
       "      <td>2121.458303</td>\n",
       "      <td>3659.240379</td>\n",
       "      <td>2909.810090</td>\n",
       "      <td>2372.566350</td>\n",
       "    </tr>\n",
       "    <tr>\n",
       "      <th>min</th>\n",
       "      <td>0.000000</td>\n",
       "      <td>0.000000</td>\n",
       "      <td>0.000000</td>\n",
       "      <td>50.000000</td>\n",
       "      <td>0.049513</td>\n",
       "      <td>0.019163</td>\n",
       "    </tr>\n",
       "    <tr>\n",
       "      <th>25%</th>\n",
       "      <td>148.095189</td>\n",
       "      <td>43.367500</td>\n",
       "      <td>0.000000</td>\n",
       "      <td>1600.000000</td>\n",
       "      <td>418.559237</td>\n",
       "      <td>169.163545</td>\n",
       "    </tr>\n",
       "    <tr>\n",
       "      <th>50%</th>\n",
       "      <td>916.855459</td>\n",
       "      <td>375.405000</td>\n",
       "      <td>0.000000</td>\n",
       "      <td>3000.000000</td>\n",
       "      <td>896.675701</td>\n",
       "      <td>312.452292</td>\n",
       "    </tr>\n",
       "    <tr>\n",
       "      <th>75%</th>\n",
       "      <td>2105.195853</td>\n",
       "      <td>1145.980000</td>\n",
       "      <td>1132.385490</td>\n",
       "      <td>6500.000000</td>\n",
       "      <td>1951.142090</td>\n",
       "      <td>825.496463</td>\n",
       "    </tr>\n",
       "    <tr>\n",
       "      <th>max</th>\n",
       "      <td>19043.138560</td>\n",
       "      <td>49039.570000</td>\n",
       "      <td>47137.211760</td>\n",
       "      <td>30000.000000</td>\n",
       "      <td>50721.483360</td>\n",
       "      <td>76406.207520</td>\n",
       "    </tr>\n",
       "  </tbody>\n",
       "</table>\n",
       "</div>"
      ],
      "text/plain": [
       "            BALANCE     PURCHASES  CASH_ADVANCE  CREDIT_LIMIT      PAYMENTS  \\\n",
       "count   8636.000000   8636.000000   8636.000000   8636.000000   8636.000000   \n",
       "mean    1601.224893   1025.433874    994.175523   4522.091030   1784.478099   \n",
       "std     2095.571300   2167.107984   2121.458303   3659.240379   2909.810090   \n",
       "min        0.000000      0.000000      0.000000     50.000000      0.049513   \n",
       "25%      148.095189     43.367500      0.000000   1600.000000    418.559237   \n",
       "50%      916.855459    375.405000      0.000000   3000.000000    896.675701   \n",
       "75%     2105.195853   1145.980000   1132.385490   6500.000000   1951.142090   \n",
       "max    19043.138560  49039.570000  47137.211760  30000.000000  50721.483360   \n",
       "\n",
       "       MINIMUM_PAYMENTS  \n",
       "count       8636.000000  \n",
       "mean         864.304943  \n",
       "std         2372.566350  \n",
       "min            0.019163  \n",
       "25%          169.163545  \n",
       "50%          312.452292  \n",
       "75%          825.496463  \n",
       "max        76406.207520  "
      ]
     },
     "execution_count": 3,
     "metadata": {},
     "output_type": "execute_result"
    }
   ],
   "source": [
    "creditcard.dropna(inplace=True)\n",
    "creditcard.describe()"
   ]
  },
  {
   "cell_type": "markdown",
   "metadata": {},
   "source": [
    "Question 1. Standardize all the features using min-max method (2 points)"
   ]
  },
  {
   "cell_type": "code",
   "execution_count": 5,
   "metadata": {},
   "outputs": [],
   "source": [
    "# Standardize features: min-max standardization\n",
    "feature_list = ['BALANCE', 'PURCHASES', 'CASH_ADVANCE', 'CREDIT_LIMIT', 'PAYMENTS', 'MINIMUM_PAYMENTS']\n",
    "\n",
    "# Initialize a min-max scaler object to do standardization\n",
    "scaler = MinMaxScaler()\n",
    "\n",
    "# Standardize features using min-max method\n",
    "features_std = scaler.fit_transform(creditcard[feature_list])"
   ]
  },
  {
   "cell_type": "markdown",
   "metadata": {},
   "source": [
    "Question 2. Fit 5-means clustering model with min-max standardized features: k=5 (2 points)"
   ]
  },
  {
   "cell_type": "code",
   "execution_count": 7,
   "metadata": {},
   "outputs": [],
   "source": [
    "# Fit 5-means clustering model: Suppose 5 clusters k=5\n",
    "cluster_5 = KMeans(n_clusters=5, random_state=0, n_jobs=-1)\n",
    "\n",
    "# Create a KMeans clustering model\n",
    "model_5 = cluster_5.fit(creditcard[feature_list]) # Clustering without feature standardization\n",
    "\n",
    "# Do clustering on min-max standardized features\n",
    "model_std_5 = cluster_5.fit(features_std) # Clustering after feature standardization"
   ]
  },
  {
   "cell_type": "markdown",
   "metadata": {},
   "source": [
    "Question 3. Predict which cluster does a new data sample belong to (1 point)"
   ]
  },
  {
   "cell_type": "code",
   "execution_count": 12,
   "metadata": {},
   "outputs": [
    {
     "data": {
      "text/plain": [
       "array([4])"
      ]
     },
     "execution_count": 12,
     "metadata": {},
     "output_type": "execute_result"
    }
   ],
   "source": [
    "# Predict which cluster is this new observation in:\n",
    "new_obs = [[40, 90, 100, 1000, 1500, 50]]\n",
    "model_std_5.predict(new_obs)"
   ]
  }
 ],
 "metadata": {
  "kernelspec": {
   "display_name": "Python 3",
   "language": "python",
   "name": "python3"
  },
  "language_info": {
   "codemirror_mode": {
    "name": "ipython",
    "version": 3
   },
   "file_extension": ".py",
   "mimetype": "text/x-python",
   "name": "python",
   "nbconvert_exporter": "python",
   "pygments_lexer": "ipython3",
   "version": "3.6.5"
  }
 },
 "nbformat": 4,
 "nbformat_minor": 2
}
